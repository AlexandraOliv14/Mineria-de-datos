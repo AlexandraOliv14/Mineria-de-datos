{
 "cells": [
  {
   "cell_type": "markdown",
   "metadata": {},
   "source": [
    "# Libreria"
   ]
  },
  {
   "cell_type": "code",
   "execution_count": 1,
   "metadata": {},
   "outputs": [],
   "source": [
    "import pandas as pd\n",
    "from pandas_profiling  import ProfileReport\n",
    "import pandas_profiling\n",
    "import numpy as np\n",
    "from plotnine import *\n",
    "theme_set(theme_linedraw()) # default theme\n",
    "\n",
    "import sklearn\n",
    "from factor_analyzer import FactorAnalyzer\n",
    "from factor_analyzer.factor_analyzer import calculate_bartlett_sphericity\n",
    "from factor_analyzer.factor_analyzer import calculate_kmo\n",
    "from sklearn.model_selection import train_test_split\n",
    "import matplotlib.pyplot as plt\n",
    "\n",
    "from sklearn import cluster\n",
    "from sklearn.neighbors import KNeighborsClassifier\n",
    "from scipy.cluster.hierarchy import dendrogram, linkage \n",
    "from matplotlib.colors import ListedColormap\n",
    "\n",
    "from sklearn.tree import DecisionTreeClassifier\n",
    "from sklearn import tree\n",
    "\n",
    "from sklearn.ensemble import RandomForestClassifier\n",
    "\n",
    "from sklearn.tree import DecisionTreeClassifier, export_graphviz\n",
    "from graphviz import Digraph\n",
    "\n",
    "from sklearn import svm, datasets\n",
    "\n",
    "from sklearn.naive_bayes import GaussianNB\n",
    "\n",
    "from sklearn.metrics import confusion_matrix\n",
    "import seaborn as sns; sns.set()\n",
    "\n",
    "from sklearn.svm import SVC\n",
    "\n",
    "\n",
    "%matplotlib inline"
   ]
  },
  {
   "cell_type": "markdown",
   "metadata": {},
   "source": [
    "# Lectura de la data"
   ]
  },
  {
   "cell_type": "code",
   "execution_count": 2,
   "metadata": {},
   "outputs": [
    {
     "data": {
      "text/html": [
       "<div>\n",
       "<style scoped>\n",
       "    .dataframe tbody tr th:only-of-type {\n",
       "        vertical-align: middle;\n",
       "    }\n",
       "\n",
       "    .dataframe tbody tr th {\n",
       "        vertical-align: top;\n",
       "    }\n",
       "\n",
       "    .dataframe thead th {\n",
       "        text-align: right;\n",
       "    }\n",
       "</style>\n",
       "<table border=\"1\" class=\"dataframe\">\n",
       "  <thead>\n",
       "    <tr style=\"text-align: right;\">\n",
       "      <th></th>\n",
       "      <th>edad</th>\n",
       "      <th>sexo</th>\n",
       "      <th>dolorP</th>\n",
       "      <th>presion</th>\n",
       "      <th>colesterol</th>\n",
       "      <th>azucar</th>\n",
       "      <th>electro</th>\n",
       "      <th>maximaFc</th>\n",
       "      <th>angina</th>\n",
       "      <th>depresionST</th>\n",
       "      <th>pendienteST</th>\n",
       "      <th>busques</th>\n",
       "      <th>thal</th>\n",
       "      <th>target</th>\n",
       "    </tr>\n",
       "  </thead>\n",
       "  <tbody>\n",
       "    <tr>\n",
       "      <th>0</th>\n",
       "      <td>63</td>\n",
       "      <td>1</td>\n",
       "      <td>3</td>\n",
       "      <td>145</td>\n",
       "      <td>233</td>\n",
       "      <td>1</td>\n",
       "      <td>0</td>\n",
       "      <td>150</td>\n",
       "      <td>0</td>\n",
       "      <td>2.3</td>\n",
       "      <td>0</td>\n",
       "      <td>0</td>\n",
       "      <td>1</td>\n",
       "      <td>1</td>\n",
       "    </tr>\n",
       "    <tr>\n",
       "      <th>1</th>\n",
       "      <td>37</td>\n",
       "      <td>1</td>\n",
       "      <td>2</td>\n",
       "      <td>130</td>\n",
       "      <td>250</td>\n",
       "      <td>0</td>\n",
       "      <td>1</td>\n",
       "      <td>187</td>\n",
       "      <td>0</td>\n",
       "      <td>3.5</td>\n",
       "      <td>0</td>\n",
       "      <td>0</td>\n",
       "      <td>2</td>\n",
       "      <td>1</td>\n",
       "    </tr>\n",
       "    <tr>\n",
       "      <th>2</th>\n",
       "      <td>41</td>\n",
       "      <td>0</td>\n",
       "      <td>1</td>\n",
       "      <td>130</td>\n",
       "      <td>204</td>\n",
       "      <td>0</td>\n",
       "      <td>0</td>\n",
       "      <td>172</td>\n",
       "      <td>0</td>\n",
       "      <td>1.4</td>\n",
       "      <td>2</td>\n",
       "      <td>0</td>\n",
       "      <td>2</td>\n",
       "      <td>1</td>\n",
       "    </tr>\n",
       "    <tr>\n",
       "      <th>3</th>\n",
       "      <td>56</td>\n",
       "      <td>1</td>\n",
       "      <td>1</td>\n",
       "      <td>120</td>\n",
       "      <td>236</td>\n",
       "      <td>0</td>\n",
       "      <td>1</td>\n",
       "      <td>178</td>\n",
       "      <td>0</td>\n",
       "      <td>0.8</td>\n",
       "      <td>2</td>\n",
       "      <td>0</td>\n",
       "      <td>2</td>\n",
       "      <td>1</td>\n",
       "    </tr>\n",
       "    <tr>\n",
       "      <th>4</th>\n",
       "      <td>57</td>\n",
       "      <td>0</td>\n",
       "      <td>0</td>\n",
       "      <td>120</td>\n",
       "      <td>354</td>\n",
       "      <td>0</td>\n",
       "      <td>1</td>\n",
       "      <td>163</td>\n",
       "      <td>1</td>\n",
       "      <td>0.6</td>\n",
       "      <td>2</td>\n",
       "      <td>0</td>\n",
       "      <td>2</td>\n",
       "      <td>1</td>\n",
       "    </tr>\n",
       "  </tbody>\n",
       "</table>\n",
       "</div>"
      ],
      "text/plain": [
       "   edad  sexo  dolorP  presion  colesterol  azucar  electro  maximaFc  angina  \\\n",
       "0    63     1       3      145         233       1        0       150       0   \n",
       "1    37     1       2      130         250       0        1       187       0   \n",
       "2    41     0       1      130         204       0        0       172       0   \n",
       "3    56     1       1      120         236       0        1       178       0   \n",
       "4    57     0       0      120         354       0        1       163       1   \n",
       "\n",
       "   depresionST  pendienteST  busques  thal  target  \n",
       "0          2.3            0        0     1       1  \n",
       "1          3.5            0        0     2       1  \n",
       "2          1.4            2        0     2       1  \n",
       "3          0.8            2        0     2       1  \n",
       "4          0.6            2        0     2       1  "
      ]
     },
     "execution_count": 2,
     "metadata": {},
     "output_type": "execute_result"
    }
   ],
   "source": [
    "corazon = pd.read_csv('heart.csv')\n",
    "corazon.columns = ['edad', 'sexo', 'dolorP', 'presion','colesterol','azucar', 'electro', 'maximaFc', 'angina','depresionST', 'pendienteST', 'busques', 'thal','target' ]\n",
    "corazon.head()"
   ]
  },
  {
   "cell_type": "markdown",
   "metadata": {},
   "source": [
    "## Cambio de nombre en columnas"
   ]
  },
  {
   "cell_type": "code",
   "execution_count": 3,
   "metadata": {},
   "outputs": [],
   "source": [
    "corazon.columns = ['edad', 'sexo', 'dolorP', 'presion','colesterol','azucar', 'electro', 'maximaFc', 'angina','depresionST', 'pendienteST', 'busques', 'thal','target' ]"
   ]
  },
  {
   "cell_type": "code",
   "execution_count": 4,
   "metadata": {},
   "outputs": [
    {
     "data": {
      "text/html": [
       "<div>\n",
       "<style scoped>\n",
       "    .dataframe tbody tr th:only-of-type {\n",
       "        vertical-align: middle;\n",
       "    }\n",
       "\n",
       "    .dataframe tbody tr th {\n",
       "        vertical-align: top;\n",
       "    }\n",
       "\n",
       "    .dataframe thead th {\n",
       "        text-align: right;\n",
       "    }\n",
       "</style>\n",
       "<table border=\"1\" class=\"dataframe\">\n",
       "  <thead>\n",
       "    <tr style=\"text-align: right;\">\n",
       "      <th></th>\n",
       "      <th>edad</th>\n",
       "      <th>sexo</th>\n",
       "      <th>dolorP</th>\n",
       "      <th>presion</th>\n",
       "      <th>colesterol</th>\n",
       "      <th>azucar</th>\n",
       "      <th>electro</th>\n",
       "      <th>maximaFc</th>\n",
       "      <th>angina</th>\n",
       "      <th>depresionST</th>\n",
       "      <th>pendienteST</th>\n",
       "      <th>busques</th>\n",
       "      <th>thal</th>\n",
       "      <th>target</th>\n",
       "    </tr>\n",
       "  </thead>\n",
       "  <tbody>\n",
       "    <tr>\n",
       "      <th>0</th>\n",
       "      <td>63</td>\n",
       "      <td>1</td>\n",
       "      <td>3</td>\n",
       "      <td>145</td>\n",
       "      <td>233</td>\n",
       "      <td>1</td>\n",
       "      <td>0</td>\n",
       "      <td>150</td>\n",
       "      <td>0</td>\n",
       "      <td>2.3</td>\n",
       "      <td>0</td>\n",
       "      <td>0</td>\n",
       "      <td>1</td>\n",
       "      <td>1</td>\n",
       "    </tr>\n",
       "    <tr>\n",
       "      <th>1</th>\n",
       "      <td>37</td>\n",
       "      <td>1</td>\n",
       "      <td>2</td>\n",
       "      <td>130</td>\n",
       "      <td>250</td>\n",
       "      <td>0</td>\n",
       "      <td>1</td>\n",
       "      <td>187</td>\n",
       "      <td>0</td>\n",
       "      <td>3.5</td>\n",
       "      <td>0</td>\n",
       "      <td>0</td>\n",
       "      <td>2</td>\n",
       "      <td>1</td>\n",
       "    </tr>\n",
       "    <tr>\n",
       "      <th>2</th>\n",
       "      <td>41</td>\n",
       "      <td>0</td>\n",
       "      <td>1</td>\n",
       "      <td>130</td>\n",
       "      <td>204</td>\n",
       "      <td>0</td>\n",
       "      <td>0</td>\n",
       "      <td>172</td>\n",
       "      <td>0</td>\n",
       "      <td>1.4</td>\n",
       "      <td>2</td>\n",
       "      <td>0</td>\n",
       "      <td>2</td>\n",
       "      <td>1</td>\n",
       "    </tr>\n",
       "    <tr>\n",
       "      <th>3</th>\n",
       "      <td>56</td>\n",
       "      <td>1</td>\n",
       "      <td>1</td>\n",
       "      <td>120</td>\n",
       "      <td>236</td>\n",
       "      <td>0</td>\n",
       "      <td>1</td>\n",
       "      <td>178</td>\n",
       "      <td>0</td>\n",
       "      <td>0.8</td>\n",
       "      <td>2</td>\n",
       "      <td>0</td>\n",
       "      <td>2</td>\n",
       "      <td>1</td>\n",
       "    </tr>\n",
       "    <tr>\n",
       "      <th>4</th>\n",
       "      <td>57</td>\n",
       "      <td>0</td>\n",
       "      <td>0</td>\n",
       "      <td>120</td>\n",
       "      <td>354</td>\n",
       "      <td>0</td>\n",
       "      <td>1</td>\n",
       "      <td>163</td>\n",
       "      <td>1</td>\n",
       "      <td>0.6</td>\n",
       "      <td>2</td>\n",
       "      <td>0</td>\n",
       "      <td>2</td>\n",
       "      <td>1</td>\n",
       "    </tr>\n",
       "    <tr>\n",
       "      <th>...</th>\n",
       "      <td>...</td>\n",
       "      <td>...</td>\n",
       "      <td>...</td>\n",
       "      <td>...</td>\n",
       "      <td>...</td>\n",
       "      <td>...</td>\n",
       "      <td>...</td>\n",
       "      <td>...</td>\n",
       "      <td>...</td>\n",
       "      <td>...</td>\n",
       "      <td>...</td>\n",
       "      <td>...</td>\n",
       "      <td>...</td>\n",
       "      <td>...</td>\n",
       "    </tr>\n",
       "    <tr>\n",
       "      <th>298</th>\n",
       "      <td>57</td>\n",
       "      <td>0</td>\n",
       "      <td>0</td>\n",
       "      <td>140</td>\n",
       "      <td>241</td>\n",
       "      <td>0</td>\n",
       "      <td>1</td>\n",
       "      <td>123</td>\n",
       "      <td>1</td>\n",
       "      <td>0.2</td>\n",
       "      <td>1</td>\n",
       "      <td>0</td>\n",
       "      <td>3</td>\n",
       "      <td>0</td>\n",
       "    </tr>\n",
       "    <tr>\n",
       "      <th>299</th>\n",
       "      <td>45</td>\n",
       "      <td>1</td>\n",
       "      <td>3</td>\n",
       "      <td>110</td>\n",
       "      <td>264</td>\n",
       "      <td>0</td>\n",
       "      <td>1</td>\n",
       "      <td>132</td>\n",
       "      <td>0</td>\n",
       "      <td>1.2</td>\n",
       "      <td>1</td>\n",
       "      <td>0</td>\n",
       "      <td>3</td>\n",
       "      <td>0</td>\n",
       "    </tr>\n",
       "    <tr>\n",
       "      <th>300</th>\n",
       "      <td>68</td>\n",
       "      <td>1</td>\n",
       "      <td>0</td>\n",
       "      <td>144</td>\n",
       "      <td>193</td>\n",
       "      <td>1</td>\n",
       "      <td>1</td>\n",
       "      <td>141</td>\n",
       "      <td>0</td>\n",
       "      <td>3.4</td>\n",
       "      <td>1</td>\n",
       "      <td>2</td>\n",
       "      <td>3</td>\n",
       "      <td>0</td>\n",
       "    </tr>\n",
       "    <tr>\n",
       "      <th>301</th>\n",
       "      <td>57</td>\n",
       "      <td>1</td>\n",
       "      <td>0</td>\n",
       "      <td>130</td>\n",
       "      <td>131</td>\n",
       "      <td>0</td>\n",
       "      <td>1</td>\n",
       "      <td>115</td>\n",
       "      <td>1</td>\n",
       "      <td>1.2</td>\n",
       "      <td>1</td>\n",
       "      <td>1</td>\n",
       "      <td>3</td>\n",
       "      <td>0</td>\n",
       "    </tr>\n",
       "    <tr>\n",
       "      <th>302</th>\n",
       "      <td>57</td>\n",
       "      <td>0</td>\n",
       "      <td>1</td>\n",
       "      <td>130</td>\n",
       "      <td>236</td>\n",
       "      <td>0</td>\n",
       "      <td>0</td>\n",
       "      <td>174</td>\n",
       "      <td>0</td>\n",
       "      <td>0.0</td>\n",
       "      <td>1</td>\n",
       "      <td>1</td>\n",
       "      <td>2</td>\n",
       "      <td>0</td>\n",
       "    </tr>\n",
       "  </tbody>\n",
       "</table>\n",
       "<p>303 rows × 14 columns</p>\n",
       "</div>"
      ],
      "text/plain": [
       "     edad  sexo  dolorP  presion  colesterol  azucar  electro  maximaFc  \\\n",
       "0      63     1       3      145         233       1        0       150   \n",
       "1      37     1       2      130         250       0        1       187   \n",
       "2      41     0       1      130         204       0        0       172   \n",
       "3      56     1       1      120         236       0        1       178   \n",
       "4      57     0       0      120         354       0        1       163   \n",
       "..    ...   ...     ...      ...         ...     ...      ...       ...   \n",
       "298    57     0       0      140         241       0        1       123   \n",
       "299    45     1       3      110         264       0        1       132   \n",
       "300    68     1       0      144         193       1        1       141   \n",
       "301    57     1       0      130         131       0        1       115   \n",
       "302    57     0       1      130         236       0        0       174   \n",
       "\n",
       "     angina  depresionST  pendienteST  busques  thal  target  \n",
       "0         0          2.3            0        0     1       1  \n",
       "1         0          3.5            0        0     2       1  \n",
       "2         0          1.4            2        0     2       1  \n",
       "3         0          0.8            2        0     2       1  \n",
       "4         1          0.6            2        0     2       1  \n",
       "..      ...          ...          ...      ...   ...     ...  \n",
       "298       1          0.2            1        0     3       0  \n",
       "299       0          1.2            1        0     3       0  \n",
       "300       0          3.4            1        2     3       0  \n",
       "301       1          1.2            1        1     3       0  \n",
       "302       0          0.0            1        1     2       0  \n",
       "\n",
       "[303 rows x 14 columns]"
      ]
     },
     "execution_count": 4,
     "metadata": {},
     "output_type": "execute_result"
    }
   ],
   "source": [
    "corazon"
   ]
  },
  {
   "cell_type": "code",
   "execution_count": 5,
   "metadata": {},
   "outputs": [
    {
     "data": {
      "text/html": [
       "<div>\n",
       "<style scoped>\n",
       "    .dataframe tbody tr th:only-of-type {\n",
       "        vertical-align: middle;\n",
       "    }\n",
       "\n",
       "    .dataframe tbody tr th {\n",
       "        vertical-align: top;\n",
       "    }\n",
       "\n",
       "    .dataframe thead th {\n",
       "        text-align: right;\n",
       "    }\n",
       "</style>\n",
       "<table border=\"1\" class=\"dataframe\">\n",
       "  <thead>\n",
       "    <tr style=\"text-align: right;\">\n",
       "      <th></th>\n",
       "      <th>edad</th>\n",
       "      <th>sexo</th>\n",
       "      <th>dolorP</th>\n",
       "      <th>presion</th>\n",
       "      <th>colesterol</th>\n",
       "      <th>azucar</th>\n",
       "      <th>electro</th>\n",
       "      <th>maximaFc</th>\n",
       "      <th>angina</th>\n",
       "      <th>depresionST</th>\n",
       "      <th>pendienteST</th>\n",
       "      <th>busques</th>\n",
       "      <th>thal</th>\n",
       "      <th>target</th>\n",
       "    </tr>\n",
       "  </thead>\n",
       "  <tbody>\n",
       "    <tr>\n",
       "      <th>0</th>\n",
       "      <td>63</td>\n",
       "      <td>1</td>\n",
       "      <td>3</td>\n",
       "      <td>145</td>\n",
       "      <td>233</td>\n",
       "      <td>1</td>\n",
       "      <td>0</td>\n",
       "      <td>150</td>\n",
       "      <td>0</td>\n",
       "      <td>2.3</td>\n",
       "      <td>0</td>\n",
       "      <td>0</td>\n",
       "      <td>1</td>\n",
       "      <td>1</td>\n",
       "    </tr>\n",
       "    <tr>\n",
       "      <th>1</th>\n",
       "      <td>37</td>\n",
       "      <td>1</td>\n",
       "      <td>2</td>\n",
       "      <td>130</td>\n",
       "      <td>250</td>\n",
       "      <td>0</td>\n",
       "      <td>1</td>\n",
       "      <td>187</td>\n",
       "      <td>0</td>\n",
       "      <td>3.5</td>\n",
       "      <td>0</td>\n",
       "      <td>0</td>\n",
       "      <td>2</td>\n",
       "      <td>1</td>\n",
       "    </tr>\n",
       "    <tr>\n",
       "      <th>2</th>\n",
       "      <td>41</td>\n",
       "      <td>0</td>\n",
       "      <td>1</td>\n",
       "      <td>130</td>\n",
       "      <td>204</td>\n",
       "      <td>0</td>\n",
       "      <td>0</td>\n",
       "      <td>172</td>\n",
       "      <td>0</td>\n",
       "      <td>1.4</td>\n",
       "      <td>2</td>\n",
       "      <td>0</td>\n",
       "      <td>2</td>\n",
       "      <td>1</td>\n",
       "    </tr>\n",
       "    <tr>\n",
       "      <th>3</th>\n",
       "      <td>56</td>\n",
       "      <td>1</td>\n",
       "      <td>1</td>\n",
       "      <td>120</td>\n",
       "      <td>236</td>\n",
       "      <td>0</td>\n",
       "      <td>1</td>\n",
       "      <td>178</td>\n",
       "      <td>0</td>\n",
       "      <td>0.8</td>\n",
       "      <td>2</td>\n",
       "      <td>0</td>\n",
       "      <td>2</td>\n",
       "      <td>1</td>\n",
       "    </tr>\n",
       "    <tr>\n",
       "      <th>4</th>\n",
       "      <td>57</td>\n",
       "      <td>0</td>\n",
       "      <td>0</td>\n",
       "      <td>120</td>\n",
       "      <td>354</td>\n",
       "      <td>0</td>\n",
       "      <td>1</td>\n",
       "      <td>163</td>\n",
       "      <td>1</td>\n",
       "      <td>0.6</td>\n",
       "      <td>2</td>\n",
       "      <td>0</td>\n",
       "      <td>2</td>\n",
       "      <td>1</td>\n",
       "    </tr>\n",
       "    <tr>\n",
       "      <th>...</th>\n",
       "      <td>...</td>\n",
       "      <td>...</td>\n",
       "      <td>...</td>\n",
       "      <td>...</td>\n",
       "      <td>...</td>\n",
       "      <td>...</td>\n",
       "      <td>...</td>\n",
       "      <td>...</td>\n",
       "      <td>...</td>\n",
       "      <td>...</td>\n",
       "      <td>...</td>\n",
       "      <td>...</td>\n",
       "      <td>...</td>\n",
       "      <td>...</td>\n",
       "    </tr>\n",
       "    <tr>\n",
       "      <th>298</th>\n",
       "      <td>57</td>\n",
       "      <td>0</td>\n",
       "      <td>0</td>\n",
       "      <td>140</td>\n",
       "      <td>241</td>\n",
       "      <td>0</td>\n",
       "      <td>1</td>\n",
       "      <td>123</td>\n",
       "      <td>1</td>\n",
       "      <td>0.2</td>\n",
       "      <td>1</td>\n",
       "      <td>0</td>\n",
       "      <td>3</td>\n",
       "      <td>0</td>\n",
       "    </tr>\n",
       "    <tr>\n",
       "      <th>299</th>\n",
       "      <td>45</td>\n",
       "      <td>1</td>\n",
       "      <td>3</td>\n",
       "      <td>110</td>\n",
       "      <td>264</td>\n",
       "      <td>0</td>\n",
       "      <td>1</td>\n",
       "      <td>132</td>\n",
       "      <td>0</td>\n",
       "      <td>1.2</td>\n",
       "      <td>1</td>\n",
       "      <td>0</td>\n",
       "      <td>3</td>\n",
       "      <td>0</td>\n",
       "    </tr>\n",
       "    <tr>\n",
       "      <th>300</th>\n",
       "      <td>68</td>\n",
       "      <td>1</td>\n",
       "      <td>0</td>\n",
       "      <td>144</td>\n",
       "      <td>193</td>\n",
       "      <td>1</td>\n",
       "      <td>1</td>\n",
       "      <td>141</td>\n",
       "      <td>0</td>\n",
       "      <td>3.4</td>\n",
       "      <td>1</td>\n",
       "      <td>2</td>\n",
       "      <td>3</td>\n",
       "      <td>0</td>\n",
       "    </tr>\n",
       "    <tr>\n",
       "      <th>301</th>\n",
       "      <td>57</td>\n",
       "      <td>1</td>\n",
       "      <td>0</td>\n",
       "      <td>130</td>\n",
       "      <td>131</td>\n",
       "      <td>0</td>\n",
       "      <td>1</td>\n",
       "      <td>115</td>\n",
       "      <td>1</td>\n",
       "      <td>1.2</td>\n",
       "      <td>1</td>\n",
       "      <td>1</td>\n",
       "      <td>3</td>\n",
       "      <td>0</td>\n",
       "    </tr>\n",
       "    <tr>\n",
       "      <th>302</th>\n",
       "      <td>57</td>\n",
       "      <td>0</td>\n",
       "      <td>1</td>\n",
       "      <td>130</td>\n",
       "      <td>236</td>\n",
       "      <td>0</td>\n",
       "      <td>0</td>\n",
       "      <td>174</td>\n",
       "      <td>0</td>\n",
       "      <td>0.0</td>\n",
       "      <td>1</td>\n",
       "      <td>1</td>\n",
       "      <td>2</td>\n",
       "      <td>0</td>\n",
       "    </tr>\n",
       "  </tbody>\n",
       "</table>\n",
       "<p>303 rows × 14 columns</p>\n",
       "</div>"
      ],
      "text/plain": [
       "     edad  sexo  dolorP  presion  colesterol  azucar  electro  maximaFc  \\\n",
       "0      63     1       3      145         233       1        0       150   \n",
       "1      37     1       2      130         250       0        1       187   \n",
       "2      41     0       1      130         204       0        0       172   \n",
       "3      56     1       1      120         236       0        1       178   \n",
       "4      57     0       0      120         354       0        1       163   \n",
       "..    ...   ...     ...      ...         ...     ...      ...       ...   \n",
       "298    57     0       0      140         241       0        1       123   \n",
       "299    45     1       3      110         264       0        1       132   \n",
       "300    68     1       0      144         193       1        1       141   \n",
       "301    57     1       0      130         131       0        1       115   \n",
       "302    57     0       1      130         236       0        0       174   \n",
       "\n",
       "     angina  depresionST  pendienteST  busques  thal  target  \n",
       "0         0          2.3            0        0     1       1  \n",
       "1         0          3.5            0        0     2       1  \n",
       "2         0          1.4            2        0     2       1  \n",
       "3         0          0.8            2        0     2       1  \n",
       "4         1          0.6            2        0     2       1  \n",
       "..      ...          ...          ...      ...   ...     ...  \n",
       "298       1          0.2            1        0     3       0  \n",
       "299       0          1.2            1        0     3       0  \n",
       "300       0          3.4            1        2     3       0  \n",
       "301       1          1.2            1        1     3       0  \n",
       "302       0          0.0            1        1     2       0  \n",
       "\n",
       "[303 rows x 14 columns]"
      ]
     },
     "execution_count": 5,
     "metadata": {},
     "output_type": "execute_result"
    }
   ],
   "source": [
    "#Eliminar nan o valores predidos\n",
    "corazon.dropna()\n",
    "corazon"
   ]
  },
  {
   "cell_type": "code",
   "execution_count": 6,
   "metadata": {},
   "outputs": [],
   "source": [
    "#Elimina los duplicados\n",
    "corazon = corazon.drop_duplicates()\n",
    "#Luego la data se separa para lograr mantener el orden de los indices\n",
    "target = pd.DataFrame(corazon['target'])\n",
    "corazon = corazon.drop(['target'], axis=1)"
   ]
  },
  {
   "cell_type": "markdown",
   "metadata": {},
   "source": [
    "# Analicis de la data"
   ]
  },
  {
   "cell_type": "markdown",
   "metadata": {},
   "source": [
    "## Profiling"
   ]
  },
  {
   "cell_type": "code",
   "execution_count": 7,
   "metadata": {},
   "outputs": [],
   "source": [
    "profile = corazon.profile_report()"
   ]
  },
  {
   "cell_type": "code",
   "execution_count": 8,
   "metadata": {},
   "outputs": [
    {
     "data": {
      "application/vnd.jupyter.widget-view+json": {
       "model_id": "7919be8114804c9aa6f17ea279153b69",
       "version_major": 2,
       "version_minor": 0
      },
      "text/plain": [
       "Tab(children=(HTML(value='<div id=\"overview-content\" class=\"row variable spacing\">\\n    <div class=\"row\">\\n   …"
      ]
     },
     "metadata": {},
     "output_type": "display_data"
    },
    {
     "data": {
      "text/html": [
       "Report generated with <a href=\"https://github.com/pandas-profiling/pandas-profiling\">pandas-profiling</a>."
      ],
      "text/plain": [
       "<IPython.core.display.HTML object>"
      ]
     },
     "metadata": {},
     "output_type": "display_data"
    },
    {
     "data": {
      "text/plain": []
     },
     "execution_count": 8,
     "metadata": {},
     "output_type": "execute_result"
    }
   ],
   "source": [
    "profile\n"
   ]
  },
  {
   "cell_type": "markdown",
   "metadata": {},
   "source": [
    "## Factorizacion"
   ]
  },
  {
   "cell_type": "code",
   "execution_count": 9,
   "metadata": {},
   "outputs": [
    {
     "data": {
      "text/plain": [
       "(562.4278578491244, 8.20713233355246e-75)"
      ]
     },
     "execution_count": 9,
     "metadata": {},
     "output_type": "execute_result"
    }
   ],
   "source": [
    "chi_square_value, p_value = calculate_bartlett_sphericity(corazon)\n",
    "chi_square_value, p_value"
   ]
  },
  {
   "cell_type": "code",
   "execution_count": 10,
   "metadata": {},
   "outputs": [
    {
     "data": {
      "text/plain": [
       "0.666246137902862"
      ]
     },
     "execution_count": 10,
     "metadata": {},
     "output_type": "execute_result"
    }
   ],
   "source": [
    "kmo_all, kmo_model = calculate_kmo(corazon)\n",
    "kmo_model"
   ]
  },
  {
   "cell_type": "code",
   "execution_count": 11,
   "metadata": {},
   "outputs": [
    {
     "data": {
      "text/html": [
       "<div>\n",
       "<style scoped>\n",
       "    .dataframe tbody tr th:only-of-type {\n",
       "        vertical-align: middle;\n",
       "    }\n",
       "\n",
       "    .dataframe tbody tr th {\n",
       "        vertical-align: top;\n",
       "    }\n",
       "\n",
       "    .dataframe thead th {\n",
       "        text-align: right;\n",
       "    }\n",
       "</style>\n",
       "<table border=\"1\" class=\"dataframe\">\n",
       "  <thead>\n",
       "    <tr style=\"text-align: right;\">\n",
       "      <th></th>\n",
       "      <th>Original_Eigenvalues</th>\n",
       "    </tr>\n",
       "  </thead>\n",
       "  <tbody>\n",
       "    <tr>\n",
       "      <th>0</th>\n",
       "      <td>2.770752</td>\n",
       "    </tr>\n",
       "    <tr>\n",
       "      <th>1</th>\n",
       "      <td>1.541732</td>\n",
       "    </tr>\n",
       "    <tr>\n",
       "      <th>2</th>\n",
       "      <td>1.216776</td>\n",
       "    </tr>\n",
       "    <tr>\n",
       "      <th>3</th>\n",
       "      <td>1.185743</td>\n",
       "    </tr>\n",
       "    <tr>\n",
       "      <th>4</th>\n",
       "      <td>1.023144</td>\n",
       "    </tr>\n",
       "    <tr>\n",
       "      <th>5</th>\n",
       "      <td>0.969278</td>\n",
       "    </tr>\n",
       "    <tr>\n",
       "      <th>6</th>\n",
       "      <td>0.865050</td>\n",
       "    </tr>\n",
       "    <tr>\n",
       "      <th>7</th>\n",
       "      <td>0.779523</td>\n",
       "    </tr>\n",
       "    <tr>\n",
       "      <th>8</th>\n",
       "      <td>0.706230</td>\n",
       "    </tr>\n",
       "    <tr>\n",
       "      <th>9</th>\n",
       "      <td>0.622433</td>\n",
       "    </tr>\n",
       "    <tr>\n",
       "      <th>10</th>\n",
       "      <td>0.525867</td>\n",
       "    </tr>\n",
       "    <tr>\n",
       "      <th>11</th>\n",
       "      <td>0.421128</td>\n",
       "    </tr>\n",
       "    <tr>\n",
       "      <th>12</th>\n",
       "      <td>0.372342</td>\n",
       "    </tr>\n",
       "  </tbody>\n",
       "</table>\n",
       "</div>"
      ],
      "text/plain": [
       "    Original_Eigenvalues\n",
       "0               2.770752\n",
       "1               1.541732\n",
       "2               1.216776\n",
       "3               1.185743\n",
       "4               1.023144\n",
       "5               0.969278\n",
       "6               0.865050\n",
       "7               0.779523\n",
       "8               0.706230\n",
       "9               0.622433\n",
       "10              0.525867\n",
       "11              0.421128\n",
       "12              0.372342"
      ]
     },
     "execution_count": 11,
     "metadata": {},
     "output_type": "execute_result"
    }
   ],
   "source": [
    "fa = FactorAnalyzer()\n",
    "fa.analyze(corazon, 12, rotation = None)\n",
    "ev, v = fa.get_eigenvalues()\n",
    "ev"
   ]
  },
  {
   "cell_type": "code",
   "execution_count": 12,
   "metadata": {},
   "outputs": [
    {
     "data": {
      "image/png": "[encoded data removed]",
      "text/plain": [
       "<Figure size 432x288 with 1 Axes>"
      ]
     },
     "metadata": {
      "needs_background": "light"
     },
     "output_type": "display_data"
    }
   ],
   "source": [
    "plt.scatter(range(1,corazon.shape[1]+1),ev)\n",
    "plt.plot(range(1,corazon.shape[1]+1),ev)\n",
    "plt.title('Scree Plot')\n",
    "plt.xlabel('Factors')\n",
    "plt.ylabel('Eigenvalue')\n",
    "plt.grid()\n",
    "plt.show()"
   ]
  },
  {
   "cell_type": "code",
   "execution_count": 13,
   "metadata": {},
   "outputs": [
    {
     "data": {
      "text/html": [
       "<div>\n",
       "<style scoped>\n",
       "    .dataframe tbody tr th:only-of-type {\n",
       "        vertical-align: middle;\n",
       "    }\n",
       "\n",
       "    .dataframe tbody tr th {\n",
       "        vertical-align: top;\n",
       "    }\n",
       "\n",
       "    .dataframe thead th {\n",
       "        text-align: right;\n",
       "    }\n",
       "</style>\n",
       "<table border=\"1\" class=\"dataframe\">\n",
       "  <thead>\n",
       "    <tr style=\"text-align: right;\">\n",
       "      <th></th>\n",
       "      <th>Factor1</th>\n",
       "      <th>Factor2</th>\n",
       "      <th>Factor3</th>\n",
       "      <th>Factor4</th>\n",
       "      <th>Factor5</th>\n",
       "    </tr>\n",
       "  </thead>\n",
       "  <tbody>\n",
       "    <tr>\n",
       "      <th>edad</th>\n",
       "      <td>-0.449013</td>\n",
       "      <td>-0.130724</td>\n",
       "      <td>0.581447</td>\n",
       "      <td>0.057528</td>\n",
       "      <td>0.036866</td>\n",
       "    </tr>\n",
       "    <tr>\n",
       "      <th>sexo</th>\n",
       "      <td>0.031976</td>\n",
       "      <td>0.883655</td>\n",
       "      <td>0.034589</td>\n",
       "      <td>0.020434</td>\n",
       "      <td>0.164400</td>\n",
       "    </tr>\n",
       "    <tr>\n",
       "      <th>dolorP</th>\n",
       "      <td>0.162880</td>\n",
       "      <td>0.049549</td>\n",
       "      <td>0.071143</td>\n",
       "      <td>-0.029580</td>\n",
       "      <td>-0.661879</td>\n",
       "    </tr>\n",
       "    <tr>\n",
       "      <th>presion</th>\n",
       "      <td>0.002925</td>\n",
       "      <td>-0.070181</td>\n",
       "      <td>0.442827</td>\n",
       "      <td>0.150144</td>\n",
       "      <td>-0.036453</td>\n",
       "    </tr>\n",
       "    <tr>\n",
       "      <th>colesterol</th>\n",
       "      <td>0.070047</td>\n",
       "      <td>-0.266707</td>\n",
       "      <td>0.319167</td>\n",
       "      <td>-0.040655</td>\n",
       "      <td>0.179020</td>\n",
       "    </tr>\n",
       "    <tr>\n",
       "      <th>azucar</th>\n",
       "      <td>-0.033535</td>\n",
       "      <td>0.074445</td>\n",
       "      <td>0.274661</td>\n",
       "      <td>0.019347</td>\n",
       "      <td>-0.106789</td>\n",
       "    </tr>\n",
       "    <tr>\n",
       "      <th>electro</th>\n",
       "      <td>-0.016318</td>\n",
       "      <td>-0.011716</td>\n",
       "      <td>-0.234774</td>\n",
       "      <td>-0.038758</td>\n",
       "      <td>-0.077949</td>\n",
       "    </tr>\n",
       "    <tr>\n",
       "      <th>maximaFc</th>\n",
       "      <td>0.747634</td>\n",
       "      <td>-0.016112</td>\n",
       "      <td>-0.048503</td>\n",
       "      <td>-0.308932</td>\n",
       "      <td>-0.282759</td>\n",
       "    </tr>\n",
       "    <tr>\n",
       "      <th>angina</th>\n",
       "      <td>-0.173350</td>\n",
       "      <td>0.064247</td>\n",
       "      <td>0.030593</td>\n",
       "      <td>0.239996</td>\n",
       "      <td>0.515411</td>\n",
       "    </tr>\n",
       "    <tr>\n",
       "      <th>depresionST</th>\n",
       "      <td>-0.079084</td>\n",
       "      <td>0.054664</td>\n",
       "      <td>0.215156</td>\n",
       "      <td>0.707517</td>\n",
       "      <td>0.215102</td>\n",
       "    </tr>\n",
       "    <tr>\n",
       "      <th>pendienteST</th>\n",
       "      <td>0.167648</td>\n",
       "      <td>-0.003262</td>\n",
       "      <td>-0.072554</td>\n",
       "      <td>-0.739937</td>\n",
       "      <td>-0.091364</td>\n",
       "    </tr>\n",
       "    <tr>\n",
       "      <th>busques</th>\n",
       "      <td>-0.184674</td>\n",
       "      <td>0.093317</td>\n",
       "      <td>0.348849</td>\n",
       "      <td>0.056042</td>\n",
       "      <td>0.229490</td>\n",
       "    </tr>\n",
       "    <tr>\n",
       "      <th>thal</th>\n",
       "      <td>0.061117</td>\n",
       "      <td>0.156257</td>\n",
       "      <td>0.151528</td>\n",
       "      <td>0.118945</td>\n",
       "      <td>0.325341</td>\n",
       "    </tr>\n",
       "  </tbody>\n",
       "</table>\n",
       "</div>"
      ],
      "text/plain": [
       "              Factor1   Factor2   Factor3   Factor4   Factor5\n",
       "edad        -0.449013 -0.130724  0.581447  0.057528  0.036866\n",
       "sexo         0.031976  0.883655  0.034589  0.020434  0.164400\n",
       "dolorP       0.162880  0.049549  0.071143 -0.029580 -0.661879\n",
       "presion      0.002925 -0.070181  0.442827  0.150144 -0.036453\n",
       "colesterol   0.070047 -0.266707  0.319167 -0.040655  0.179020\n",
       "azucar      -0.033535  0.074445  0.274661  0.019347 -0.106789\n",
       "electro     -0.016318 -0.011716 -0.234774 -0.038758 -0.077949\n",
       "maximaFc     0.747634 -0.016112 -0.048503 -0.308932 -0.282759\n",
       "angina      -0.173350  0.064247  0.030593  0.239996  0.515411\n",
       "depresionST -0.079084  0.054664  0.215156  0.707517  0.215102\n",
       "pendienteST  0.167648 -0.003262 -0.072554 -0.739937 -0.091364\n",
       "busques     -0.184674  0.093317  0.348849  0.056042  0.229490\n",
       "thal         0.061117  0.156257  0.151528  0.118945  0.325341"
      ]
     },
     "execution_count": 13,
     "metadata": {},
     "output_type": "execute_result"
    }
   ],
   "source": [
    "QAfa = FactorAnalyzer()\n",
    "fa.analyze(corazon, 5, rotation=\"varimax\")\n",
    "fa.loadings"
   ]
  },
  {
   "cell_type": "markdown",
   "metadata": {},
   "source": [
    "# Separacion de la data en entrenamiento y test"
   ]
  },
  {
   "cell_type": "code",
   "execution_count": 14,
   "metadata": {},
   "outputs": [
    {
     "data": {
      "text/html": [
       "<div>\n",
       "<style scoped>\n",
       "    .dataframe tbody tr th:only-of-type {\n",
       "        vertical-align: middle;\n",
       "    }\n",
       "\n",
       "    .dataframe tbody tr th {\n",
       "        vertical-align: top;\n",
       "    }\n",
       "\n",
       "    .dataframe thead th {\n",
       "        text-align: right;\n",
       "    }\n",
       "</style>\n",
       "<table border=\"1\" class=\"dataframe\">\n",
       "  <thead>\n",
       "    <tr style=\"text-align: right;\">\n",
       "      <th></th>\n",
       "      <th>edad</th>\n",
       "      <th>sexo</th>\n",
       "      <th>dolorP</th>\n",
       "      <th>presion</th>\n",
       "      <th>colesterol</th>\n",
       "      <th>azucar</th>\n",
       "      <th>electro</th>\n",
       "      <th>maximaFc</th>\n",
       "      <th>angina</th>\n",
       "      <th>depresionST</th>\n",
       "      <th>pendienteST</th>\n",
       "      <th>busques</th>\n",
       "      <th>thal</th>\n",
       "      <th>target</th>\n",
       "    </tr>\n",
       "  </thead>\n",
       "  <tbody>\n",
       "    <tr>\n",
       "      <th>0</th>\n",
       "      <td>63</td>\n",
       "      <td>1</td>\n",
       "      <td>3</td>\n",
       "      <td>145</td>\n",
       "      <td>233</td>\n",
       "      <td>1</td>\n",
       "      <td>0</td>\n",
       "      <td>150</td>\n",
       "      <td>0</td>\n",
       "      <td>2.3</td>\n",
       "      <td>0</td>\n",
       "      <td>0</td>\n",
       "      <td>1</td>\n",
       "      <td>1</td>\n",
       "    </tr>\n",
       "    <tr>\n",
       "      <th>1</th>\n",
       "      <td>37</td>\n",
       "      <td>1</td>\n",
       "      <td>2</td>\n",
       "      <td>130</td>\n",
       "      <td>250</td>\n",
       "      <td>0</td>\n",
       "      <td>1</td>\n",
       "      <td>187</td>\n",
       "      <td>0</td>\n",
       "      <td>3.5</td>\n",
       "      <td>0</td>\n",
       "      <td>0</td>\n",
       "      <td>2</td>\n",
       "      <td>1</td>\n",
       "    </tr>\n",
       "    <tr>\n",
       "      <th>2</th>\n",
       "      <td>41</td>\n",
       "      <td>0</td>\n",
       "      <td>1</td>\n",
       "      <td>130</td>\n",
       "      <td>204</td>\n",
       "      <td>0</td>\n",
       "      <td>0</td>\n",
       "      <td>172</td>\n",
       "      <td>0</td>\n",
       "      <td>1.4</td>\n",
       "      <td>2</td>\n",
       "      <td>0</td>\n",
       "      <td>2</td>\n",
       "      <td>1</td>\n",
       "    </tr>\n",
       "    <tr>\n",
       "      <th>3</th>\n",
       "      <td>56</td>\n",
       "      <td>1</td>\n",
       "      <td>1</td>\n",
       "      <td>120</td>\n",
       "      <td>236</td>\n",
       "      <td>0</td>\n",
       "      <td>1</td>\n",
       "      <td>178</td>\n",
       "      <td>0</td>\n",
       "      <td>0.8</td>\n",
       "      <td>2</td>\n",
       "      <td>0</td>\n",
       "      <td>2</td>\n",
       "      <td>1</td>\n",
       "    </tr>\n",
       "    <tr>\n",
       "      <th>4</th>\n",
       "      <td>57</td>\n",
       "      <td>0</td>\n",
       "      <td>0</td>\n",
       "      <td>120</td>\n",
       "      <td>354</td>\n",
       "      <td>0</td>\n",
       "      <td>1</td>\n",
       "      <td>163</td>\n",
       "      <td>1</td>\n",
       "      <td>0.6</td>\n",
       "      <td>2</td>\n",
       "      <td>0</td>\n",
       "      <td>2</td>\n",
       "      <td>1</td>\n",
       "    </tr>\n",
       "  </tbody>\n",
       "</table>\n",
       "</div>"
      ],
      "text/plain": [
       "   edad  sexo  dolorP  presion  colesterol  azucar  electro  maximaFc  angina  \\\n",
       "0    63     1       3      145         233       1        0       150       0   \n",
       "1    37     1       2      130         250       0        1       187       0   \n",
       "2    41     0       1      130         204       0        0       172       0   \n",
       "3    56     1       1      120         236       0        1       178       0   \n",
       "4    57     0       0      120         354       0        1       163       1   \n",
       "\n",
       "   depresionST  pendienteST  busques  thal  target  \n",
       "0          2.3            0        0     1       1  \n",
       "1          3.5            0        0     2       1  \n",
       "2          1.4            2        0     2       1  \n",
       "3          0.8            2        0     2       1  \n",
       "4          0.6            2        0     2       1  "
      ]
     },
     "execution_count": 14,
     "metadata": {},
     "output_type": "execute_result"
    }
   ],
   "source": [
    "# Se lee nueamente la data para no perder los indices en la separacion\n",
    "corazon = pd.read_csv('heart.csv')\n",
    "corazon.columns = ['edad', 'sexo', 'dolorP', 'presion','colesterol','azucar', 'electro', 'maximaFc', 'angina','depresionST', 'pendienteST', 'busques', 'thal','target' ]\n",
    "#Elimina los duplicados\n",
    "corazon = corazon.drop_duplicates()\n",
    "corazon.head()"
   ]
  },
  {
   "cell_type": "code",
   "execution_count": 15,
   "metadata": {},
   "outputs": [],
   "source": [
    "# Se separa la data en evaluacion y entrenamiento\n",
    "entrenamiento, evaluacion= train_test_split(corazon, test_size = 0.30)"
   ]
  },
  {
   "cell_type": "code",
   "execution_count": 16,
   "metadata": {},
   "outputs": [],
   "source": [
    "# Se separa la data en objetivo y , y data como tal\n",
    "entrenamiento_y = pd.DataFrame(entrenamiento['target'])\n",
    "entrenamiento_x = entrenamiento.drop(['target'], axis=1)\n",
    "\n",
    "evaluacion_y = pd.DataFrame(evaluacion['target'])\n",
    "evaluacion_x = evaluacion.drop(['target'], axis=1)"
   ]
  },
  {
   "cell_type": "code",
   "execution_count": 17,
   "metadata": {},
   "outputs": [],
   "source": [
    "lista = []\n",
    "for i in evaluacion_y['target']:\n",
    "    lista.append(int(i))\n",
    "    \n",
    "y_evaluacion = np.array(lista)\n",
    "\n",
    "lista = []\n",
    "for i in entrenamiento_y['target']:\n",
    "    lista.append(int(i))\n",
    "    \n",
    "y_entrenamiento = np.array(lista)"
   ]
  },
  {
   "cell_type": "markdown",
   "metadata": {},
   "source": [
    "# K-means"
   ]
  },
  {
   "cell_type": "code",
   "execution_count": 18,
   "metadata": {},
   "outputs": [],
   "source": [
    "#lista con los 24 colores a usar\n",
    "colors = [     'chartreuse', 'green',      'mediumspringgreen', 'lightseagreen',\n",
    "          'darkcyan']"
   ]
  },
  {
   "cell_type": "code",
   "execution_count": 19,
   "metadata": {},
   "outputs": [
    {
     "data": {
      "image/png": "[encoded data removed]",
      "text/plain": [
       "<Figure size 432x288 with 1 Axes>"
      ]
     },
     "metadata": {
      "needs_background": "light"
     },
     "output_type": "display_data"
    }
   ],
   "source": [
    "kmeans = cluster.KMeans(2)\n",
    "kmeans.fit(entrenamiento_x)\n",
    "labels = kmeans.labels_\n",
    "centroids = kmeans.cluster_centers_\n",
    "plt.scatter(entrenamiento_x['colesterol'], entrenamiento_x['edad'], c=labels,cmap=ListedColormap(colors))\n",
    "plt.scatter(centroids[:,0], centroids[:,1], marker='x', c='black')\n",
    "plt.show()"
   ]
  },
  {
   "cell_type": "code",
   "execution_count": 20,
   "metadata": {},
   "outputs": [],
   "source": [
    "lista_entrenamiento_y = []\n",
    "for i in entrenamiento_y.target:\n",
    "    lista_entrenamiento_y.append(i)"
   ]
  },
  {
   "cell_type": "code",
   "execution_count": 21,
   "metadata": {},
   "outputs": [],
   "source": [
    "lista_knn2 = []\n",
    "for i in kmeans.labels_:\n",
    "    lista_knn2.append(i)"
   ]
  },
  {
   "cell_type": "code",
   "execution_count": 22,
   "metadata": {},
   "outputs": [
    {
     "name": "stdout",
     "output_type": "stream",
     "text": [
      "[0, 1, 0, 0, 1, 1, 0, 1, 1, 1, 0, 1, 1, 1, 1, 1, 1, 1, 1, 1, 0, 0, 1, 1, 0, 0, 1, 0, 1, 0, 0, 0, 1, 1, 1, 0, 1, 1, 1, 1, 1, 0, 1, 0, 1, 1, 1, 1, 1, 0, 1, 1, 0, 1, 0, 0, 1, 0, 1, 0, 0, 1, 1, 0, 1, 1, 0, 0, 0, 0, 0, 1, 0, 0, 0, 0, 1, 1, 1, 1, 0, 0, 1, 0, 1, 1, 0, 1, 0, 1, 1, 1, 0, 0, 1, 0, 1, 1, 1, 0, 0, 1, 1, 1, 1, 1, 0, 0, 1, 1, 1, 0, 0, 0, 0, 1, 1, 1, 0, 1, 0, 1, 1, 1, 1, 0, 0, 0, 0, 1, 0, 1, 1, 1, 1, 0, 1, 0, 1, 0, 1, 1, 0, 1, 0, 1, 1, 1, 1, 1, 0, 0, 0, 0, 1, 1, 1, 0, 1, 0, 0, 0, 1, 0, 0, 0, 1, 1, 1, 1, 0, 1, 0, 1, 0, 0, 1, 0, 1, 0, 1, 0, 0, 1, 1, 0, 1, 0, 0, 0, 1, 1, 0, 1, 1, 0, 1, 0, 0, 0, 0, 0, 1, 1, 1, 0, 0, 0, 0, 1, 0]\n",
      "[0, 0, 1, 0, 1, 1, 1, 0, 0, 1, 0, 1, 1, 1, 0, 1, 1, 0, 1, 1, 1, 0, 0, 1, 1, 0, 1, 1, 1, 1, 1, 1, 1, 0, 0, 1, 0, 0, 1, 1, 1, 0, 0, 0, 0, 1, 1, 0, 1, 1, 1, 1, 1, 0, 0, 1, 0, 0, 1, 0, 0, 0, 1, 0, 0, 0, 1, 0, 0, 1, 1, 1, 0, 1, 0, 0, 0, 1, 0, 1, 0, 0, 1, 0, 1, 1, 0, 1, 1, 1, 1, 1, 0, 0, 0, 0, 0, 1, 0, 1, 1, 0, 1, 1, 0, 1, 0, 1, 1, 0, 1, 0, 0, 0, 1, 1, 1, 1, 0, 1, 0, 0, 1, 0, 0, 0, 1, 0, 1, 0, 1, 0, 0, 1, 1, 0, 1, 1, 1, 1, 0, 1, 0, 1, 1, 0, 0, 1, 0, 0, 0, 1, 1, 0, 0, 0, 0, 0, 1, 0, 0, 1, 1, 0, 1, 1, 1, 1, 1, 1, 1, 0, 1, 0, 1, 1, 0, 1, 0, 0, 1, 0, 0, 1, 1, 0, 1, 0, 0, 1, 1, 0, 1, 1, 1, 0, 1, 0, 1, 1, 1, 0, 1, 0, 1, 1, 1, 0, 0, 0, 1]\n"
     ]
    }
   ],
   "source": [
    "print( lista_knn2)\n",
    "print(lista_entrenamiento_y)"
   ]
  },
  {
   "cell_type": "code",
   "execution_count": 23,
   "metadata": {},
   "outputs": [
    {
     "name": "stdout",
     "output_type": "stream",
     "text": [
      "119\n",
      "211\n"
     ]
    }
   ],
   "source": [
    "aux = 0\n",
    "for i in range(len(lista_entrenamiento_y)):\n",
    "    if lista_knn2[i] == lista_entrenamiento_y[i]:\n",
    "        aux = aux +1\n",
    "print (aux)\n",
    "print(len(lista_entrenamiento_y))"
   ]
  },
  {
   "cell_type": "code",
   "execution_count": 24,
   "metadata": {},
   "outputs": [],
   "source": [
    "lista_entrenamientoy2 = []\n",
    "for i in lista_entrenamiento_y:\n",
    "    if int(i) == 0:\n",
    "        lista_entrenamientoy2.append(1)\n",
    "    if int(i) == 1:\n",
    "        lista_entrenamientoy2.append(0)\n",
    "len(lista_entrenamientoy2)\n",
    "lista_entrenamientoy2 = np.array(lista_entrenamientoy2)"
   ]
  },
  {
   "cell_type": "code",
   "execution_count": 25,
   "metadata": {},
   "outputs": [
    {
     "name": "stdout",
     "output_type": "stream",
     "text": [
      "Cantidad de errores de clasificación sobre un total de 211 casos: 119\n",
      "Efectividad del algoritmo:  0.44\n"
     ]
    },
    {
     "data": {
      "image/png": "[encoded data removed]",
      "text/plain": [
       "<Figure size 432x288 with 1 Axes>"
      ]
     },
     "metadata": {
      "needs_background": "light"
     },
     "output_type": "display_data"
    }
   ],
   "source": [
    "# Matriz de confusión con diferente entrenamiento\n",
    "y_pred= lista_knn2\n",
    "cnf_matrix = confusion_matrix(lista_entrenamientoy2, y_pred)\n",
    "\n",
    "print(\"Cantidad de errores de clasificación sobre un total de {0} casos: {1}\"\n",
    "      .format(lista_entrenamientoy2.shape[0],(lista_entrenamientoy2 != y_pred).sum()))\n",
    "print(\"Efectividad del algoritmo: {0: .2f}\"\n",
    "      .format(1 - (lista_entrenamientoy2 != y_pred).sum()/lista_entrenamientoy2.shape[0]))\n",
    "\n",
    "# Graficando la matriz de confusión\n",
    "sns.heatmap(cnf_matrix.T, square=True, annot=True, fmt='d', cbar=False)\n",
    "plt.xlabel('Clase verdadera')\n",
    "plt.ylabel('Clase predecida')\n",
    "plt.title('Matriz de Confusión')\n",
    "plt.show()"
   ]
  },
  {
   "cell_type": "code",
   "execution_count": 26,
   "metadata": {},
   "outputs": [
    {
     "name": "stdout",
     "output_type": "stream",
     "text": [
      "Cantidad de errores de clasificación sobre un total de 211 casos: 92\n",
      "Efectividad del algoritmo:  0.56\n"
     ]
    },
    {
     "data": {
      "image/png": "[encoded data removed]",
      "text/plain": [
       "<Figure size 432x288 with 1 Axes>"
      ]
     },
     "metadata": {
      "needs_background": "light"
     },
     "output_type": "display_data"
    }
   ],
   "source": [
    "# Matriz de confusión normal\n",
    "y_pred= lista_knn2\n",
    "cnf_matrix = confusion_matrix(y_entrenamiento, y_pred)\n",
    "\n",
    "print(\"Cantidad de errores de clasificación sobre un total de {0} casos: {1}\"\n",
    "      .format(y_entrenamiento.shape[0],(y_entrenamiento != y_pred).sum()))\n",
    "print(\"Efectividad del algoritmo: {0: .2f}\"\n",
    "      .format(1 - (y_entrenamiento != y_pred).sum()/y_entrenamiento.shape[0]))\n",
    "\n",
    "# Graficando la matriz de confusión\n",
    "sns.heatmap(cnf_matrix.T, square=True, annot=True, fmt='d', cbar=False)\n",
    "plt.xlabel('Clase verdadera')\n",
    "plt.ylabel('Clase predecida')\n",
    "plt.title('Matriz de Confusión')\n",
    "plt.show()"
   ]
  },
  {
   "cell_type": "markdown",
   "metadata": {},
   "source": [
    "# Agrupacion jerarquica"
   ]
  },
  {
   "cell_type": "code",
   "execution_count": 27,
   "metadata": {},
   "outputs": [],
   "source": [
    "data = corazon.sample(15)\n",
    "target_data = pd.DataFrame(data['target'])\n",
    "data_x = data.drop(['target'], axis=1)"
   ]
  },
  {
   "cell_type": "code",
   "execution_count": 28,
   "metadata": {},
   "outputs": [],
   "source": [
    "distancias = linkage(data_x.values, 'complete', metric='euclidean')\n",
    "etiquetas = data_x.edad.values"
   ]
  },
  {
   "cell_type": "code",
   "execution_count": 29,
   "metadata": {},
   "outputs": [
    {
     "data": {
      "image/png": "[encoded data removed]",
      "text/plain": [
       "<Figure size 1440x720 with 1 Axes>"
      ]
     },
     "metadata": {
      "needs_background": "light"
     },
     "output_type": "display_data"
    }
   ],
   "source": [
    "plt.figure(figsize=(20, 10))\n",
    "dendrogram(distancias, orientation='top',labels = etiquetas, distance_sort='descending',show_leaf_counts=True)\n",
    "plt.show()  "
   ]
  },
  {
   "cell_type": "markdown",
   "metadata": {},
   "source": [
    "# Arboles de decision"
   ]
  },
  {
   "cell_type": "code",
   "execution_count": 30,
   "metadata": {},
   "outputs": [],
   "source": [
    "ad = DecisionTreeClassifier( max_depth=10) # Creando el modelo\n",
    "ad.fit(entrenamiento_x, lista_entrenamiento_y) # Ajustando el modelo\n",
    "\n",
    "#generando archivo para graficar el arbol\n",
    "with open(\"mi_arbol.dot\", 'w') as archivo_dot: tree.export_graphviz(ad, out_file = archivo_dot)"
   ]
  },
  {
   "cell_type": "code",
   "execution_count": 31,
   "metadata": {},
   "outputs": [],
   "source": [
    "from graphviz import Digraph\n",
    "# utilizando el lenguaje dot para graficar el arbol.\n",
    "!dot -Tjpeg mi_arbol.dot -o arbol_decision1.jpeg"
   ]
  },
  {
   "cell_type": "code",
   "execution_count": 32,
   "metadata": {},
   "outputs": [
    {
     "name": "stdout",
     "output_type": "stream",
     "text": [
      "precisión del modelo:  1.00\n"
     ]
    }
   ],
   "source": [
    "# verificando la precisión\n",
    "print(\"precisión del modelo: {0: .2f}\".format((lista_entrenamiento_y == ad.predict(entrenamiento_x)).mean()))"
   ]
  },
  {
   "cell_type": "code",
   "execution_count": 33,
   "metadata": {},
   "outputs": [
    {
     "name": "stdout",
     "output_type": "stream",
     "text": [
      "Cantidad de errores de clasificación sobre un total de 91 casos: 20\n",
      "Efectividad del algoritmo:  0.78\n"
     ]
    },
    {
     "data": {
      "image/png": "[encoded data removed]",
      "text/plain": [
       "<Figure size 432x288 with 1 Axes>"
      ]
     },
     "metadata": {
      "needs_background": "light"
     },
     "output_type": "display_data"
    }
   ],
   "source": [
    "# Matriz de confusión\n",
    "y_pred= ad.predict(evaluacion_x)\n",
    "cnf_matrix = confusion_matrix(y_evaluacion, y_pred)\n",
    "\n",
    "print(\"Cantidad de errores de clasificación sobre un total de {0} casos: {1}\"\n",
    "      .format(y_evaluacion.shape[0],(y_evaluacion != y_pred).sum()))\n",
    "print(\"Efectividad del algoritmo: {0: .2f}\"\n",
    "      .format(1 - (y_evaluacion != y_pred).sum()/y_evaluacion.shape[0]))\n",
    "\n",
    "# Graficando la matriz de confusión\n",
    "sns.heatmap(cnf_matrix.T, square=True, annot=True, fmt='d', cbar=False)\n",
    "plt.xlabel('Clase verdadera')\n",
    "plt.ylabel('Clase predecida')\n",
    "plt.title('Matriz de Confusión')\n",
    "plt.show()"
   ]
  },
  {
   "cell_type": "markdown",
   "metadata": {},
   "source": [
    "# Random Forest"
   ]
  },
  {
   "cell_type": "code",
   "execution_count": 34,
   "metadata": {},
   "outputs": [
    {
     "data": {
      "text/plain": [
       "RandomForestClassifier(bootstrap=True, ccp_alpha=0.0, class_weight=None,\n",
       "                       criterion='gini', max_depth=None, max_features='auto',\n",
       "                       max_leaf_nodes=None, max_samples=None,\n",
       "                       min_impurity_decrease=0.0, min_impurity_split=None,\n",
       "                       min_samples_leaf=1, min_samples_split=2,\n",
       "                       min_weight_fraction_leaf=0.0, n_estimators=100,\n",
       "                       n_jobs=None, oob_score=False, random_state=None,\n",
       "                       verbose=0, warm_start=False)"
      ]
     },
     "execution_count": 34,
     "metadata": {},
     "output_type": "execute_result"
    }
   ],
   "source": [
    "rf = RandomForestClassifier() # Creando el modelo\n",
    "rf.fit(entrenamiento_x, entrenamiento_y) # Ajustando el modelo"
   ]
  },
  {
   "cell_type": "code",
   "execution_count": 35,
   "metadata": {},
   "outputs": [
    {
     "name": "stdout",
     "output_type": "stream",
     "text": [
      "precisión del modelo:  1.00\n"
     ]
    }
   ],
   "source": [
    "# verificando la precisión\n",
    "print(\"precisión del modelo: {0: .2f}\".format((y_entrenamiento == rf.predict(entrenamiento_x)).mean()))"
   ]
  },
  {
   "cell_type": "code",
   "execution_count": 36,
   "metadata": {},
   "outputs": [
    {
     "name": "stdout",
     "output_type": "stream",
     "text": [
      "precisión del modelo:  0.90\n"
     ]
    }
   ],
   "source": [
    "# verificando la precisión test\n",
    "print(\"precisión del modelo: {0: .2f}\".format((y_evaluacion == rf.predict(evaluacion_x)).mean()))"
   ]
  },
  {
   "cell_type": "code",
   "execution_count": 37,
   "metadata": {},
   "outputs": [
    {
     "name": "stdout",
     "output_type": "stream",
     "text": [
      "precisión del modelo:  0.78\n"
     ]
    }
   ],
   "source": [
    "# verificando la precisión test\n",
    "print(\"precisión del modelo: {0: .2f}\".format((y_evaluacion == ad.predict(evaluacion_x)).mean()))"
   ]
  },
  {
   "cell_type": "code",
   "execution_count": 38,
   "metadata": {},
   "outputs": [
    {
     "name": "stdout",
     "output_type": "stream",
     "text": [
      "Cantidad de errores de clasificación sobre un total de 91 casos: 9\n",
      "Efectividad del algoritmo:  0.90\n"
     ]
    },
    {
     "data": {
      "image/png": "[encoded data removed]",
      "text/plain": [
       "<Figure size 432x288 with 1 Axes>"
      ]
     },
     "metadata": {
      "needs_background": "light"
     },
     "output_type": "display_data"
    }
   ],
   "source": [
    "# Matriz de confusión\n",
    "y_pred= rf.predict(evaluacion_x)\n",
    "cnf_matrix = confusion_matrix(y_evaluacion, y_pred)\n",
    "\n",
    "print(\"Cantidad de errores de clasificación sobre un total de {0} casos: {1}\"\n",
    "      .format(y_evaluacion.shape[0],(y_evaluacion != y_pred).sum()))\n",
    "print(\"Efectividad del algoritmo: {0: .2f}\"\n",
    "      .format(1 - (y_evaluacion != y_pred).sum()/y_evaluacion.shape[0]))\n",
    "\n",
    "# Graficando la matriz de confusión\n",
    "sns.heatmap(cnf_matrix.T, square=True, annot=True, fmt='d', cbar=False)\n",
    "plt.xlabel('Clase verdadera')\n",
    "plt.ylabel('Clase predecida')\n",
    "plt.title('Matriz de Confusión')\n",
    "plt.show()"
   ]
  },
  {
   "cell_type": "code",
   "execution_count": 39,
   "metadata": {},
   "outputs": [
    {
     "name": "stdout",
     "output_type": "stream",
     "text": [
      "Precisión modelo inicial train/test  0.844/0.824\n"
     ]
    }
   ],
   "source": [
    "# Armando un simple arbol de decisión\n",
    "tree = DecisionTreeClassifier(max_depth=3, random_state=0)\n",
    "tree.fit(entrenamiento_x, y_entrenamiento)\n",
    "print('Precisión modelo inicial train/test  {0:.3f}/{1:.3f}'\n",
    "      .format(tree.score(entrenamiento_x, y_entrenamiento), tree.score(evaluacion_x, y_evaluacion)))"
   ]
  },
  {
   "cell_type": "code",
   "execution_count": 40,
   "metadata": {},
   "outputs": [],
   "source": [
    "caracterictica = ['edad', 'sexo', 'dolorP', 'presion','colesterol','azucar', 'electro', 'maximaFc', 'angina','depresionST', 'pendienteST', 'busques', 'thal']"
   ]
  },
  {
   "cell_type": "code",
   "execution_count": 41,
   "metadata": {},
   "outputs": [],
   "source": [
    "import graphviz\n",
    "# Dibujando el modelo\n",
    "export_graphviz(tree, out_file=\"tree.dot\", class_names=[\"no presenta enfermedad\", \"presenta enfermedad\"], \n",
    "                feature_names=caracterictica, impurity=False, filled=True)\n",
    "\n",
    "with open(\"tree.dot\") as f:\n",
    "    dot_graph = f.read()\n",
    "graphviz.Source(dot_graph)\n",
    "\n",
    "# utilizando el lenguaje dot para graficar el arbol.\n",
    "!dot -Tjpeg tree.dot -o random.jpeg"
   ]
  },
  {
   "cell_type": "code",
   "execution_count": 42,
   "metadata": {},
   "outputs": [],
   "source": [
    "from sklearn.ensemble import AdaBoostClassifier\n",
    "# Utilizando AdaBoost para aumentar la precisión\n",
    "ada = AdaBoostClassifier(base_estimator=tree, n_estimators=500, \n",
    "                         learning_rate=1.5, random_state=1)\n",
    "# Ajustando los datos\n",
    "ada = ada.fit(entrenamiento_x, y_entrenamiento)"
   ]
  },
  {
   "cell_type": "code",
   "execution_count": 43,
   "metadata": {},
   "outputs": [
    {
     "data": {
      "text/plain": [
       "0.8241758241758241"
      ]
     },
     "execution_count": 43,
     "metadata": {},
     "output_type": "execute_result"
    }
   ],
   "source": [
    "ada.score(evaluacion_x, y_evaluacion)"
   ]
  },
  {
   "cell_type": "code",
   "execution_count": 44,
   "metadata": {},
   "outputs": [
    {
     "data": {
      "text/plain": [
       "1.0"
      ]
     },
     "execution_count": 44,
     "metadata": {},
     "output_type": "execute_result"
    }
   ],
   "source": [
    "ada.score(entrenamiento_x, y_entrenamiento)"
   ]
  },
  {
   "cell_type": "code",
   "execution_count": 45,
   "metadata": {},
   "outputs": [
    {
     "data": {
      "text/plain": [
       "array([0.16069777, 0.01815601, 0.05221659, 0.13327395, 0.20057011,\n",
       "       0.00744419, 0.02253233, 0.15042802, 0.01980465, 0.10874107,\n",
       "       0.02863513, 0.06896311, 0.02853707])"
      ]
     },
     "execution_count": 45,
     "metadata": {},
     "output_type": "execute_result"
    }
   ],
   "source": [
    "ada.feature_importances_"
   ]
  },
  {
   "cell_type": "code",
   "execution_count": 46,
   "metadata": {},
   "outputs": [
    {
     "data": {
      "text/html": [
       "<div>\n",
       "<style scoped>\n",
       "    .dataframe tbody tr th:only-of-type {\n",
       "        vertical-align: middle;\n",
       "    }\n",
       "\n",
       "    .dataframe tbody tr th {\n",
       "        vertical-align: top;\n",
       "    }\n",
       "\n",
       "    .dataframe thead th {\n",
       "        text-align: right;\n",
       "    }\n",
       "</style>\n",
       "<table border=\"1\" class=\"dataframe\">\n",
       "  <thead>\n",
       "    <tr style=\"text-align: right;\">\n",
       "      <th></th>\n",
       "      <th>Caracteristica</th>\n",
       "      <th>Importancia</th>\n",
       "    </tr>\n",
       "  </thead>\n",
       "  <tbody>\n",
       "    <tr>\n",
       "      <th>4</th>\n",
       "      <td>colesterol</td>\n",
       "      <td>0.200570</td>\n",
       "    </tr>\n",
       "    <tr>\n",
       "      <th>0</th>\n",
       "      <td>edad</td>\n",
       "      <td>0.160698</td>\n",
       "    </tr>\n",
       "    <tr>\n",
       "      <th>7</th>\n",
       "      <td>maximaFc</td>\n",
       "      <td>0.150428</td>\n",
       "    </tr>\n",
       "    <tr>\n",
       "      <th>3</th>\n",
       "      <td>presion</td>\n",
       "      <td>0.133274</td>\n",
       "    </tr>\n",
       "    <tr>\n",
       "      <th>9</th>\n",
       "      <td>depresionST</td>\n",
       "      <td>0.108741</td>\n",
       "    </tr>\n",
       "  </tbody>\n",
       "</table>\n",
       "</div>"
      ],
      "text/plain": [
       "  Caracteristica  Importancia\n",
       "4     colesterol     0.200570\n",
       "0           edad     0.160698\n",
       "7       maximaFc     0.150428\n",
       "3        presion     0.133274\n",
       "9    depresionST     0.108741"
      ]
     },
     "execution_count": 46,
     "metadata": {},
     "output_type": "execute_result"
    }
   ],
   "source": [
    "imp = pd.DataFrame(zip(caracterictica, ada.feature_importances_), columns = ['Caracteristica', 'Importancia'])\n",
    "imp = imp.sort_values(by = 'Importancia', ascending = False)\n",
    "imp.head()"
   ]
  },
  {
   "cell_type": "code",
   "execution_count": 47,
   "metadata": {},
   "outputs": [
    {
     "name": "stdout",
     "output_type": "stream",
     "text": [
      "Cantidad de errores de clasificación sobre un total de 91 casos: 16\n",
      "Efectividad del algoritmo:  0.82\n"
     ]
    },
    {
     "data": {
      "image/png": "[encoded data removed]",
      "text/plain": [
       "<Figure size 432x288 with 1 Axes>"
      ]
     },
     "metadata": {
      "needs_background": "light"
     },
     "output_type": "display_data"
    }
   ],
   "source": [
    "# Matriz de confusión\n",
    "y_pred= ada.predict(evaluacion_x)\n",
    "cnf_matrix = confusion_matrix(y_evaluacion, y_pred)\n",
    "\n",
    "print(\"Cantidad de errores de clasificación sobre un total de {0} casos: {1}\"\n",
    "      .format(y_evaluacion.shape[0],(y_evaluacion != y_pred).sum()))\n",
    "print(\"Efectividad del algoritmo: {0: .2f}\"\n",
    "      .format(1 - (y_evaluacion != y_pred).sum()/y_evaluacion.shape[0]))\n",
    "\n",
    "# Graficando la matriz de confusión\n",
    "sns.heatmap(cnf_matrix.T, square=True, annot=True, fmt='d', cbar=False)\n",
    "plt.xlabel('Clase verdadera')\n",
    "plt.ylabel('Clase predecida')\n",
    "plt.title('Matriz de Confusión')\n",
    "plt.show()"
   ]
  },
  {
   "cell_type": "markdown",
   "metadata": {},
   "source": [
    "# Bayesianas"
   ]
  },
  {
   "cell_type": "code",
   "execution_count": 48,
   "metadata": {},
   "outputs": [],
   "source": [
    "# inicializar el clasificador Naive Bayes\n",
    "bayes_ingenuo = GaussianNB()\n",
    "\n",
    "# predicción \n",
    "y_pred = bayes_ingenuo.fit(entrenamiento_x, y_entrenamiento).predict(evaluacion_x)"
   ]
  },
  {
   "cell_type": "code",
   "execution_count": 49,
   "metadata": {},
   "outputs": [
    {
     "name": "stdout",
     "output_type": "stream",
     "text": [
      "Cantidad de errores de clasificación sobre un total de 91 casos: 14\n",
      "Efectividad del algoritmo:  0.85\n"
     ]
    },
    {
     "data": {
      "image/png": "[encoded data removed]",
      "text/plain": [
       "<Figure size 432x288 with 1 Axes>"
      ]
     },
     "metadata": {
      "needs_background": "light"
     },
     "output_type": "display_data"
    }
   ],
   "source": [
    "# Matriz de confusión\n",
    "cnf_matrix = confusion_matrix(y_evaluacion, y_pred)\n",
    "\n",
    "print(\"Cantidad de errores de clasificación sobre un total de {0} casos: {1}\"\n",
    "      .format(y_evaluacion.shape[0],(y_evaluacion != y_pred).sum()))\n",
    "print(\"Efectividad del algoritmo: {0: .2f}\"\n",
    "      .format(1 - (y_evaluacion != y_pred).sum()/y_evaluacion.shape[0]))\n",
    "\n",
    "# Graficando la matriz de confusión\n",
    "sns.heatmap(cnf_matrix.T, square=True, annot=True, fmt='d', cbar=False)\n",
    "plt.xlabel('Clase verdadera')\n",
    "plt.ylabel('Clase predecida')\n",
    "plt.title('Matriz de Confusión')\n",
    "plt.show()"
   ]
  },
  {
   "cell_type": "markdown",
   "metadata": {},
   "source": [
    "# SVM LINEAL"
   ]
  },
  {
   "cell_type": "code",
   "execution_count": 50,
   "metadata": {},
   "outputs": [
    {
     "data": {
      "text/plain": [
       "SVC(C=1.0, break_ties=False, cache_size=200, class_weight=None, coef0=0.0,\n",
       "    decision_function_shape='ovr', degree=3, gamma='scale', kernel='linear',\n",
       "    max_iter=-1, probability=False, random_state=None, shrinking=True,\n",
       "    tol=0.001, verbose=False)"
      ]
     },
     "execution_count": 50,
     "metadata": {},
     "output_type": "execute_result"
    }
   ],
   "source": [
    "svclassifier = SVC(kernel='linear')\n",
    "svclassifier.fit(entrenamiento_x, y_entrenamiento)"
   ]
  },
  {
   "cell_type": "code",
   "execution_count": 51,
   "metadata": {},
   "outputs": [
    {
     "name": "stdout",
     "output_type": "stream",
     "text": [
      "Cantidad de errores de clasificación sobre un total de 91 casos: 12\n",
      "Efectividad del algoritmo:  0.87\n"
     ]
    },
    {
     "data": {
      "image/png": "[encoded data removed]",
      "text/plain": [
       "<Figure size 432x288 with 1 Axes>"
      ]
     },
     "metadata": {
      "needs_background": "light"
     },
     "output_type": "display_data"
    }
   ],
   "source": [
    "y_pred = svclassifier.predict(evaluacion_x)\n",
    "\n",
    "# Matriz de confusión\n",
    "cnf_matrix = confusion_matrix(y_evaluacion, y_pred)\n",
    "\n",
    "print(\"Cantidad de errores de clasificación sobre un total de {0} casos: {1}\"\n",
    "      .format(y_evaluacion.shape[0],(y_evaluacion != y_pred).sum()))\n",
    "print(\"Efectividad del algoritmo: {0: .2f}\"\n",
    "      .format(1 - (y_evaluacion != y_pred).sum()/y_evaluacion.shape[0]))\n",
    "\n",
    "# Graficando la matriz de confusión\n",
    "sns.heatmap(cnf_matrix.T, square=True, annot=True, fmt='d', cbar=False)\n",
    "plt.xlabel('Clase verdadera')\n",
    "plt.ylabel('Clase predecida')\n",
    "plt.title('Matriz de Confusión')\n",
    "plt.show()"
   ]
  },
  {
   "cell_type": "markdown",
   "metadata": {},
   "source": [
    "# SVM POLYNOMIAL"
   ]
  },
  {
   "cell_type": "code",
   "execution_count": 52,
   "metadata": {},
   "outputs": [
    {
     "data": {
      "text/plain": [
       "SVC(C=1.0, break_ties=False, cache_size=200, class_weight=None, coef0=0.0,\n",
       "    decision_function_shape='ovr', degree=2, gamma='scale', kernel='poly',\n",
       "    max_iter=-1, probability=False, random_state=None, shrinking=True,\n",
       "    tol=0.001, verbose=False)"
      ]
     },
     "execution_count": 52,
     "metadata": {},
     "output_type": "execute_result"
    }
   ],
   "source": [
    "svclassifier = SVC(kernel='poly', degree=2)\n",
    "svclassifier.fit(entrenamiento_x, y_entrenamiento)"
   ]
  },
  {
   "cell_type": "code",
   "execution_count": 53,
   "metadata": {},
   "outputs": [
    {
     "name": "stdout",
     "output_type": "stream",
     "text": [
      "Cantidad de errores de clasificación sobre un total de 91 casos: 29\n",
      "Efectividad del algoritmo:  0.68\n"
     ]
    },
    {
     "data": {
      "image/png": "[encoded data removed]",
      "text/plain": [
       "<Figure size 432x288 with 1 Axes>"
      ]
     },
     "metadata": {
      "needs_background": "light"
     },
     "output_type": "display_data"
    }
   ],
   "source": [
    "y_pred = svclassifier.predict(evaluacion_x)\n",
    "\n",
    "# Matriz de confusión\n",
    "cnf_matrix = confusion_matrix(y_evaluacion, y_pred)\n",
    "\n",
    "print(\"Cantidad de errores de clasificación sobre un total de {0} casos: {1}\"\n",
    "      .format(y_evaluacion.shape[0],(y_evaluacion != y_pred).sum()))\n",
    "print(\"Efectividad del algoritmo: {0: .2f}\"\n",
    "      .format(1 - (y_evaluacion != y_pred).sum()/y_evaluacion.shape[0]))\n",
    "\n",
    "# Graficando la matriz de confusión\n",
    "sns.heatmap(cnf_matrix.T, square=True, annot=True, fmt='d', cbar=False)\n",
    "plt.xlabel('Clase verdadera')\n",
    "plt.ylabel('Clase predecida')\n",
    "plt.title('Matriz de Confusión')\n",
    "plt.show()"
   ]
  },
  {
   "cell_type": "markdown",
   "metadata": {},
   "source": [
    "# Kernel Gaussian"
   ]
  },
  {
   "cell_type": "code",
   "execution_count": 54,
   "metadata": {},
   "outputs": [
    {
     "data": {
      "text/plain": [
       "SVC(C=1.0, break_ties=False, cache_size=200, class_weight=None, coef0=0.0,\n",
       "    decision_function_shape='ovr', degree=3, gamma='scale', kernel='rbf',\n",
       "    max_iter=-1, probability=False, random_state=None, shrinking=True,\n",
       "    tol=0.001, verbose=False)"
      ]
     },
     "execution_count": 54,
     "metadata": {},
     "output_type": "execute_result"
    }
   ],
   "source": [
    "svclassifier = SVC(kernel='rbf')\n",
    "svclassifier.fit(entrenamiento_x, y_entrenamiento)"
   ]
  },
  {
   "cell_type": "code",
   "execution_count": 55,
   "metadata": {},
   "outputs": [
    {
     "name": "stdout",
     "output_type": "stream",
     "text": [
      "Cantidad de errores de clasificación sobre un total de 91 casos: 29\n",
      "Efectividad del algoritmo:  0.68\n"
     ]
    },
    {
     "data": {
      "image/png": "[encoded data removed]",
      "text/plain": [
       "<Figure size 432x288 with 1 Axes>"
      ]
     },
     "metadata": {
      "needs_background": "light"
     },
     "output_type": "display_data"
    }
   ],
   "source": [
    "y_pred = svclassifier.predict(evaluacion_x)\n",
    "\n",
    "# Matriz de confusión\n",
    "cnf_matrix = confusion_matrix(y_evaluacion, y_pred)\n",
    "\n",
    "print(\"Cantidad de errores de clasificación sobre un total de {0} casos: {1}\"\n",
    "      .format(y_evaluacion.shape[0],(y_evaluacion != y_pred).sum()))\n",
    "print(\"Efectividad del algoritmo: {0: .2f}\"\n",
    "      .format(1 - (y_evaluacion != y_pred).sum()/y_evaluacion.shape[0]))\n",
    "\n",
    "# Graficando la matriz de confusión\n",
    "sns.heatmap(cnf_matrix.T, square=True, annot=True, fmt='d', cbar=False)\n",
    "plt.xlabel('Clase verdadera')\n",
    "plt.ylabel('Clase predecida')\n",
    "plt.title('Matriz de Confusión')\n",
    "plt.show()"
   ]
  },
  {
   "cell_type": "markdown",
   "metadata": {},
   "source": [
    "# Sigmoid Kernel"
   ]
  },
  {
   "cell_type": "code",
   "execution_count": 56,
   "metadata": {},
   "outputs": [
    {
     "data": {
      "text/plain": [
       "SVC(C=1.0, break_ties=False, cache_size=200, class_weight=None, coef0=0.0,\n",
       "    decision_function_shape='ovr', degree=3, gamma='scale', kernel='sigmoid',\n",
       "    max_iter=-1, probability=False, random_state=None, shrinking=True,\n",
       "    tol=0.001, verbose=False)"
      ]
     },
     "execution_count": 56,
     "metadata": {},
     "output_type": "execute_result"
    }
   ],
   "source": [
    "svclassifier = SVC(kernel='sigmoid')\n",
    "svclassifier.fit(entrenamiento_x, y_entrenamiento)"
   ]
  },
  {
   "cell_type": "code",
   "execution_count": 57,
   "metadata": {},
   "outputs": [
    {
     "name": "stdout",
     "output_type": "stream",
     "text": [
      "Cantidad de errores de clasificación sobre un total de 91 casos: 40\n",
      "Efectividad del algoritmo:  0.56\n"
     ]
    },
    {
     "data": {
      "image/png": "[encoded data removed]",
      "text/plain": [
       "<Figure size 432x288 with 1 Axes>"
      ]
     },
     "metadata": {
      "needs_background": "light"
     },
     "output_type": "display_data"
    }
   ],
   "source": [
    "y_pred = svclassifier.predict(evaluacion_x)\n",
    "\n",
    "# Matriz de confusión\n",
    "cnf_matrix = confusion_matrix(y_evaluacion, y_pred)\n",
    "\n",
    "print(\"Cantidad de errores de clasificación sobre un total de {0} casos: {1}\"\n",
    "      .format(y_evaluacion.shape[0],(y_evaluacion != y_pred).sum()))\n",
    "print(\"Efectividad del algoritmo: {0: .2f}\"\n",
    "      .format(1 - (y_evaluacion != y_pred).sum()/y_evaluacion.shape[0]))\n",
    "\n",
    "# Graficando la matriz de confusión\n",
    "sns.heatmap(cnf_matrix.T, square=True, annot=True, fmt='d', cbar=False)\n",
    "plt.xlabel('Clase verdadera')\n",
    "plt.ylabel('Clase predecida')\n",
    "plt.title('Matriz de Confusión')\n",
    "plt.show()"
   ]
  },
  {
   "cell_type": "code",
   "execution_count": null,
   "metadata": {},
   "outputs": [],
   "source": []
  }
 ],
 "metadata": {
  "kernelspec": {
   "display_name": "Python 3",
   "language": "python",
   "name": "python3"
  },
  "language_info": {
   "codemirror_mode": {
    "name": "ipython",
    "version": 3
   },
   "file_extension": ".py",
   "mimetype": "text/x-python",
   "name": "python",
   "nbconvert_exporter": "python",
   "pygments_lexer": "ipython3",
   "version": "3.7.6"
  }
 },
 "nbformat": 4,
 "nbformat_minor": 4
}
