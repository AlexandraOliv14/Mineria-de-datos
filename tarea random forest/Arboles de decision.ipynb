{
 "cells": [
  {
   "cell_type": "code",
   "execution_count": 1,
   "metadata": {},
   "outputs": [],
   "source": [
    "#Se importan librerias\n",
    "import numpy as np\n",
    "import matplotlib.pyplot as plt\n",
    "import pandas as pd\n",
    "from sklearn.model_selection import train_test_split\n",
    "from sklearn import datasets\n"
   ]
  },
  {
   "cell_type": "markdown",
   "metadata": {},
   "source": [
    "## Lee la data"
   ]
  },
  {
   "cell_type": "code",
   "execution_count": 2,
   "metadata": {},
   "outputs": [
    {
     "data": {
      "text/html": [
       "<div>\n",
       "<style scoped>\n",
       "    .dataframe tbody tr th:only-of-type {\n",
       "        vertical-align: middle;\n",
       "    }\n",
       "\n",
       "    .dataframe tbody tr th {\n",
       "        vertical-align: top;\n",
       "    }\n",
       "\n",
       "    .dataframe thead th {\n",
       "        text-align: right;\n",
       "    }\n",
       "</style>\n",
       "<table border=\"1\" class=\"dataframe\">\n",
       "  <thead>\n",
       "    <tr style=\"text-align: right;\">\n",
       "      <th></th>\n",
       "      <th>age</th>\n",
       "      <th>sex</th>\n",
       "      <th>cp</th>\n",
       "      <th>trestbps</th>\n",
       "      <th>chol</th>\n",
       "      <th>fbs</th>\n",
       "      <th>restecg</th>\n",
       "      <th>thalach</th>\n",
       "      <th>exang</th>\n",
       "      <th>oldpeak</th>\n",
       "      <th>slope</th>\n",
       "      <th>ca</th>\n",
       "      <th>thal</th>\n",
       "      <th>target</th>\n",
       "    </tr>\n",
       "  </thead>\n",
       "  <tbody>\n",
       "    <tr>\n",
       "      <th>0</th>\n",
       "      <td>63</td>\n",
       "      <td>1</td>\n",
       "      <td>3</td>\n",
       "      <td>145</td>\n",
       "      <td>233</td>\n",
       "      <td>1</td>\n",
       "      <td>0</td>\n",
       "      <td>150</td>\n",
       "      <td>0</td>\n",
       "      <td>2.3</td>\n",
       "      <td>0</td>\n",
       "      <td>0</td>\n",
       "      <td>1</td>\n",
       "      <td>1</td>\n",
       "    </tr>\n",
       "    <tr>\n",
       "      <th>1</th>\n",
       "      <td>37</td>\n",
       "      <td>1</td>\n",
       "      <td>2</td>\n",
       "      <td>130</td>\n",
       "      <td>250</td>\n",
       "      <td>0</td>\n",
       "      <td>1</td>\n",
       "      <td>187</td>\n",
       "      <td>0</td>\n",
       "      <td>3.5</td>\n",
       "      <td>0</td>\n",
       "      <td>0</td>\n",
       "      <td>2</td>\n",
       "      <td>1</td>\n",
       "    </tr>\n",
       "    <tr>\n",
       "      <th>2</th>\n",
       "      <td>41</td>\n",
       "      <td>0</td>\n",
       "      <td>1</td>\n",
       "      <td>130</td>\n",
       "      <td>204</td>\n",
       "      <td>0</td>\n",
       "      <td>0</td>\n",
       "      <td>172</td>\n",
       "      <td>0</td>\n",
       "      <td>1.4</td>\n",
       "      <td>2</td>\n",
       "      <td>0</td>\n",
       "      <td>2</td>\n",
       "      <td>1</td>\n",
       "    </tr>\n",
       "    <tr>\n",
       "      <th>3</th>\n",
       "      <td>56</td>\n",
       "      <td>1</td>\n",
       "      <td>1</td>\n",
       "      <td>120</td>\n",
       "      <td>236</td>\n",
       "      <td>0</td>\n",
       "      <td>1</td>\n",
       "      <td>178</td>\n",
       "      <td>0</td>\n",
       "      <td>0.8</td>\n",
       "      <td>2</td>\n",
       "      <td>0</td>\n",
       "      <td>2</td>\n",
       "      <td>1</td>\n",
       "    </tr>\n",
       "    <tr>\n",
       "      <th>4</th>\n",
       "      <td>57</td>\n",
       "      <td>0</td>\n",
       "      <td>0</td>\n",
       "      <td>120</td>\n",
       "      <td>354</td>\n",
       "      <td>0</td>\n",
       "      <td>1</td>\n",
       "      <td>163</td>\n",
       "      <td>1</td>\n",
       "      <td>0.6</td>\n",
       "      <td>2</td>\n",
       "      <td>0</td>\n",
       "      <td>2</td>\n",
       "      <td>1</td>\n",
       "    </tr>\n",
       "  </tbody>\n",
       "</table>\n",
       "</div>"
      ],
      "text/plain": [
       "   age  sex  cp  trestbps  chol  fbs  restecg  thalach  exang  oldpeak  slope  \\\n",
       "0   63    1   3       145   233    1        0      150      0      2.3      0   \n",
       "1   37    1   2       130   250    0        1      187      0      3.5      0   \n",
       "2   41    0   1       130   204    0        0      172      0      1.4      2   \n",
       "3   56    1   1       120   236    0        1      178      0      0.8      2   \n",
       "4   57    0   0       120   354    0        1      163      1      0.6      2   \n",
       "\n",
       "   ca  thal  target  \n",
       "0   0     1       1  \n",
       "1   0     2       1  \n",
       "2   0     2       1  \n",
       "3   0     2       1  \n",
       "4   0     2       1  "
      ]
     },
     "execution_count": 2,
     "metadata": {},
     "output_type": "execute_result"
    }
   ],
   "source": [
    "corazon = pd.read_csv('heart.csv')\n",
    "corazon.head()"
   ]
  },
  {
   "cell_type": "markdown",
   "metadata": {},
   "source": [
    "##### age => años de edad\n",
    "##### sex => (1 = male; 0 = female)\n",
    "##### cp => tipo de dolor en el pecho\n",
    "##### trestbps => presión arterial en reposo (en mm Hg al ingreso al hospital)\n",
    "##### chol => suero colestoral en mg / dl\n",
    "##### fbs => (azúcar en sangre en ayunas> 120 mg / dl) (1 = verdadero; 0 = falso)\n",
    "##### restecg => Resultados electrocardiográficos en reposo\n",
    "##### thalach => frecuencia cardíaca máxima alcanzada\n",
    "##### exang => angina inducida por ejercicio (1 = sí; 0 = no)\n",
    "##### oldpeak => Depresión del ST inducida por el ejercicio relativo al descanso\n",
    "##### slope => la pendiente del segmento ST del ejercicio máximo\n",
    "##### ca => número de buques principales (0-3) coloreados por la flotación\n",
    "##### thal => 3 = normal; 6 = fixed defect; 7 = reversable defect\n",
    "##### target =>  diagnóstico de enfermedad cardíaca (estado de la enfermedad angiográfica)\n",
    "#### -- Valor 0: <50% de reducción de diámetro\n",
    "#### -- Valor 1: > 50% de estrechamiento del diámetro "
   ]
  },
  {
   "cell_type": "markdown",
   "metadata": {},
   "source": [
    "## Transforma la data para que coincida con los tipos"
   ]
  },
  {
   "cell_type": "code",
   "execution_count": 3,
   "metadata": {},
   "outputs": [],
   "source": [
    "target = pd.DataFrame(corazon['target'])\n",
    "dataframe = corazon.drop(['target'], axis=1)"
   ]
  },
  {
   "cell_type": "code",
   "execution_count": 4,
   "metadata": {},
   "outputs": [],
   "source": [
    "lista = []\n",
    "for i in target['target']:\n",
    "    lista.append(int(i))\n",
    "    \n",
    "objetivo = np.array(lista)\n",
    "\n",
    "#dataframe ---> data\n",
    "#objetivo ---->resultado esperado"
   ]
  },
  {
   "cell_type": "markdown",
   "metadata": {},
   "source": [
    "# Arboles de decision"
   ]
  },
  {
   "cell_type": "code",
   "execution_count": 5,
   "metadata": {},
   "outputs": [],
   "source": [
    "# Importando el arbol de decisión\n",
    "from sklearn.tree import DecisionTreeClassifier\n",
    "from sklearn import tree\n",
    "\n",
    "ad = DecisionTreeClassifier(criterion='entropy', max_depth=10) # Creando el modelo\n",
    "ad.fit(dataframe, target) # Ajustando el modelo\n",
    "\n",
    "#generando archivo para graficar el arbol\n",
    "with open(\"mi_arbol.dot\", 'w') as archivo_dot:\n",
    "    tree.export_graphviz(ad, out_file = archivo_dot)"
   ]
  },
  {
   "cell_type": "code",
   "execution_count": 6,
   "metadata": {},
   "outputs": [],
   "source": [
    "from graphviz import Digraph\n",
    "# utilizando el lenguaje dot para graficar el arbol.\n",
    "!dot -Tjpeg mi_arbol.dot -o arbol_decision1.jpeg"
   ]
  },
  {
   "cell_type": "code",
   "execution_count": 7,
   "metadata": {},
   "outputs": [
    {
     "name": "stdout",
     "output_type": "stream",
     "text": [
      "precisión del modelo:  1.00\n"
     ]
    }
   ],
   "source": [
    "# verificando la precisión\n",
    "print(\"precisión del modelo: {0: .2f}\".format((objetivo == ad.predict(dataframe)).mean()))"
   ]
  },
  {
   "cell_type": "markdown",
   "metadata": {},
   "source": [
    "## Crean datos de test y entrenamiento"
   ]
  },
  {
   "cell_type": "code",
   "execution_count": 8,
   "metadata": {},
   "outputs": [
    {
     "name": "stdout",
     "output_type": "stream",
     "text": [
      "Ejemplos usados para entrenar:  212\n",
      "Ejemplos usados para test:  91\n"
     ]
    }
   ],
   "source": [
    "train, test = train_test_split(corazon, test_size = 0.30)\n",
    "y_test = pd.DataFrame(test['target'])\n",
    "X_test = test.drop(['target'], axis=1)\n",
    "y_train = pd.DataFrame(test['target'])\n",
    "X_train = test.drop(['target'], axis=1)\n",
    "print(\"Ejemplos usados para entrenar: \", len(train))\n",
    "print(\"Ejemplos usados para test: \", len(test))"
   ]
  },
  {
   "cell_type": "code",
   "execution_count": 9,
   "metadata": {},
   "outputs": [],
   "source": [
    "lista = []\n",
    "for i in y_test['target']:\n",
    "    lista.append(int(i))\n",
    "    \n",
    "y_test = np.array(lista)\n",
    "\n",
    "lista = []\n",
    "for i in y_train['target']:\n",
    "    lista.append(int(i))\n",
    "    \n",
    "y_train = np.array(lista)"
   ]
  },
  {
   "cell_type": "markdown",
   "metadata": {},
   "source": [
    "# Random Forest"
   ]
  },
  {
   "cell_type": "code",
   "execution_count": 10,
   "metadata": {},
   "outputs": [
    {
     "data": {
      "text/plain": [
       "RandomForestClassifier(bootstrap=True, ccp_alpha=0.0, class_weight=None,\n",
       "                       criterion='gini', max_depth=None, max_features='auto',\n",
       "                       max_leaf_nodes=None, max_samples=None,\n",
       "                       min_impurity_decrease=0.0, min_impurity_split=None,\n",
       "                       min_samples_leaf=1, min_samples_split=2,\n",
       "                       min_weight_fraction_leaf=0.0, n_estimators=100,\n",
       "                       n_jobs=None, oob_score=False, random_state=None,\n",
       "                       verbose=0, warm_start=False)"
      ]
     },
     "execution_count": 10,
     "metadata": {},
     "output_type": "execute_result"
    }
   ],
   "source": [
    "# Importando el random forest\n",
    "from sklearn.ensemble import RandomForestClassifier\n",
    "#Se crean los datos\n",
    "X, y = X_train, y_train\n",
    "rf = RandomForestClassifier() # Creando el modelo\n",
    "rf.fit(X, y) # Ajustando el modelo"
   ]
  },
  {
   "cell_type": "code",
   "execution_count": 11,
   "metadata": {},
   "outputs": [
    {
     "name": "stdout",
     "output_type": "stream",
     "text": [
      "precisión del modelo:  1.00\n"
     ]
    }
   ],
   "source": [
    "# verificando la precisión\n",
    "print(\"precisión del modelo: {0: .2f}\".format((y == rf.predict(X)).mean()))"
   ]
  },
  {
   "cell_type": "code",
   "execution_count": 12,
   "metadata": {},
   "outputs": [
    {
     "name": "stdout",
     "output_type": "stream",
     "text": [
      "precisión del modelo:  1.00\n"
     ]
    }
   ],
   "source": [
    "# verificando la precisión test\n",
    "print(\"precisión del modelo: {0: .2f}\".format((y_test == rf.predict(X_test)).mean()))"
   ]
  },
  {
   "cell_type": "code",
   "execution_count": 13,
   "metadata": {},
   "outputs": [
    {
     "name": "stdout",
     "output_type": "stream",
     "text": [
      "precisión del modelo:  1.00\n"
     ]
    }
   ],
   "source": [
    "# verificando la precisión test\n",
    "print(\"precisión del modelo: {0: .2f}\".format((y_test == ad.predict(X_test)).mean()))"
   ]
  },
  {
   "cell_type": "code",
   "execution_count": 14,
   "metadata": {},
   "outputs": [],
   "source": [
    "from sklearn.datasets import load_breast_cancer\n",
    "from sklearn.tree import DecisionTreeClassifier, export_graphviz\n",
    "from graphviz import Digraph"
   ]
  },
  {
   "cell_type": "code",
   "execution_count": 15,
   "metadata": {},
   "outputs": [
    {
     "name": "stdout",
     "output_type": "stream",
     "text": [
      "Precisión modelo inicial train/test  0.901/0.901\n"
     ]
    }
   ],
   "source": [
    "# Armando un simple arbol de decisión\n",
    "tree = DecisionTreeClassifier(max_depth=3, random_state=0)\n",
    "tree.fit(X_train, y_train)\n",
    "print('Precisión modelo inicial train/test  {0:.3f}/{1:.3f}'\n",
    "      .format(tree.score(X_train, y_train), tree.score(X_test, y_test)))"
   ]
  },
  {
   "cell_type": "code",
   "execution_count": 16,
   "metadata": {},
   "outputs": [],
   "source": [
    "caracterictica = ['age','sex','cp','trestbps','chol','fbs','restecg','thalach','exang','oldpeak','slope','ca','thal']"
   ]
  },
  {
   "cell_type": "code",
   "execution_count": 17,
   "metadata": {},
   "outputs": [
    {
     "data": {
      "image/svg+xml": [
       "<?xml version=\"1.0\" encoding=\"UTF-8\" standalone=\"no\"?>\r\n",
       "<!DOCTYPE svg PUBLIC \"-//W3C//DTD SVG 1.1//EN\"\r\n",
       " \"http://www.w3.org/Graphics/SVG/1.1/DTD/svg11.dtd\">\r\n",
       "<!-- Generated by graphviz version 2.38.0 (20140413.2041)\r\n",
       " -->\r\n",
       "<!-- Title: Tree Pages: 1 -->\r\n",
       "<svg width=\"1310pt\" height=\"373pt\"\r\n",
       " viewBox=\"0.00 0.00 1310.00 373.00\" xmlns=\"http://www.w3.org/2000/svg\" xmlns:xlink=\"http://www.w3.org/1999/xlink\">\r\n",
       "<g id=\"graph0\" class=\"graph\" transform=\"scale(1 1) rotate(0) translate(4 369)\">\r\n",
       "<title>Tree</title>\r\n",
       "<polygon fill=\"white\" stroke=\"none\" points=\"-4,4 -4,-369 1306,-369 1306,4 -4,4\"/>\r\n",
       "<!-- 0 -->\r\n",
       "<g id=\"node1\" class=\"node\"><title>0</title>\r\n",
       "<polygon fill=\"#cee6f8\" stroke=\"black\" points=\"910,-365 694,-365 694,-297 910,-297 910,-365\"/>\r\n",
       "<text text-anchor=\"middle\" x=\"802\" y=\"-349.8\" font-family=\"Times New Roman,serif\" font-size=\"14.00\">cp &lt;= 0.5</text>\r\n",
       "<text text-anchor=\"middle\" x=\"802\" y=\"-334.8\" font-family=\"Times New Roman,serif\" font-size=\"14.00\">samples = 91</text>\r\n",
       "<text text-anchor=\"middle\" x=\"802\" y=\"-319.8\" font-family=\"Times New Roman,serif\" font-size=\"14.00\">value = [39, 52]</text>\r\n",
       "<text text-anchor=\"middle\" x=\"802\" y=\"-304.8\" font-family=\"Times New Roman,serif\" font-size=\"14.00\">class = estrechamiento del diametro</text>\r\n",
       "</g>\r\n",
       "<!-- 1 -->\r\n",
       "<g id=\"node2\" class=\"node\"><title>1</title>\r\n",
       "<polygon fill=\"#eeae7f\" stroke=\"black\" points=\"738,-261 550,-261 550,-193 738,-193 738,-261\"/>\r\n",
       "<text text-anchor=\"middle\" x=\"644\" y=\"-245.8\" font-family=\"Times New Roman,serif\" font-size=\"14.00\">thal &lt;= 2.5</text>\r\n",
       "<text text-anchor=\"middle\" x=\"644\" y=\"-230.8\" font-family=\"Times New Roman,serif\" font-size=\"14.00\">samples = 42</text>\r\n",
       "<text text-anchor=\"middle\" x=\"644\" y=\"-215.8\" font-family=\"Times New Roman,serif\" font-size=\"14.00\">value = [31, 11]</text>\r\n",
       "<text text-anchor=\"middle\" x=\"644\" y=\"-200.8\" font-family=\"Times New Roman,serif\" font-size=\"14.00\">class = reduccion del diametro</text>\r\n",
       "</g>\r\n",
       "<!-- 0&#45;&gt;1 -->\r\n",
       "<g id=\"edge1\" class=\"edge\"><title>0&#45;&gt;1</title>\r\n",
       "<path fill=\"none\" stroke=\"black\" d=\"M750.702,-296.884C735.724,-287.214 719.226,-276.563 703.772,-266.587\"/>\r\n",
       "<polygon fill=\"black\" stroke=\"black\" points=\"705.611,-263.608 695.311,-261.125 701.814,-269.489 705.611,-263.608\"/>\r\n",
       "<text text-anchor=\"middle\" x=\"700.575\" y=\"-281.864\" font-family=\"Times New Roman,serif\" font-size=\"14.00\">True</text>\r\n",
       "</g>\r\n",
       "<!-- 8 -->\r\n",
       "<g id=\"node9\" class=\"node\"><title>8</title>\r\n",
       "<polygon fill=\"#60b0ea\" stroke=\"black\" points=\"1068,-261 852,-261 852,-193 1068,-193 1068,-261\"/>\r\n",
       "<text text-anchor=\"middle\" x=\"960\" y=\"-245.8\" font-family=\"Times New Roman,serif\" font-size=\"14.00\">trestbps &lt;= 170.0</text>\r\n",
       "<text text-anchor=\"middle\" x=\"960\" y=\"-230.8\" font-family=\"Times New Roman,serif\" font-size=\"14.00\">samples = 49</text>\r\n",
       "<text text-anchor=\"middle\" x=\"960\" y=\"-215.8\" font-family=\"Times New Roman,serif\" font-size=\"14.00\">value = [8, 41]</text>\r\n",
       "<text text-anchor=\"middle\" x=\"960\" y=\"-200.8\" font-family=\"Times New Roman,serif\" font-size=\"14.00\">class = estrechamiento del diametro</text>\r\n",
       "</g>\r\n",
       "<!-- 0&#45;&gt;8 -->\r\n",
       "<g id=\"edge8\" class=\"edge\"><title>0&#45;&gt;8</title>\r\n",
       "<path fill=\"none\" stroke=\"black\" d=\"M853.298,-296.884C868.276,-287.214 884.774,-276.563 900.228,-266.587\"/>\r\n",
       "<polygon fill=\"black\" stroke=\"black\" points=\"902.186,-269.489 908.689,-261.125 898.389,-263.608 902.186,-269.489\"/>\r\n",
       "<text text-anchor=\"middle\" x=\"903.425\" y=\"-281.864\" font-family=\"Times New Roman,serif\" font-size=\"14.00\">False</text>\r\n",
       "</g>\r\n",
       "<!-- 2 -->\r\n",
       "<g id=\"node3\" class=\"node\"><title>2</title>\r\n",
       "<polygon fill=\"#d7ebfa\" stroke=\"black\" points=\"436,-157 220,-157 220,-89 436,-89 436,-157\"/>\r\n",
       "<text text-anchor=\"middle\" x=\"328\" y=\"-141.8\" font-family=\"Times New Roman,serif\" font-size=\"14.00\">ca &lt;= 0.5</text>\r\n",
       "<text text-anchor=\"middle\" x=\"328\" y=\"-126.8\" font-family=\"Times New Roman,serif\" font-size=\"14.00\">samples = 18</text>\r\n",
       "<text text-anchor=\"middle\" x=\"328\" y=\"-111.8\" font-family=\"Times New Roman,serif\" font-size=\"14.00\">value = [8, 10]</text>\r\n",
       "<text text-anchor=\"middle\" x=\"328\" y=\"-96.8\" font-family=\"Times New Roman,serif\" font-size=\"14.00\">class = estrechamiento del diametro</text>\r\n",
       "</g>\r\n",
       "<!-- 1&#45;&gt;2 -->\r\n",
       "<g id=\"edge2\" class=\"edge\"><title>1&#45;&gt;2</title>\r\n",
       "<path fill=\"none\" stroke=\"black\" d=\"M549.618,-195.535C515.143,-184.407 475.818,-171.713 439.96,-160.139\"/>\r\n",
       "<polygon fill=\"black\" stroke=\"black\" points=\"441.027,-156.806 430.435,-157.065 438.877,-163.467 441.027,-156.806\"/>\r\n",
       "</g>\r\n",
       "<!-- 5 -->\r\n",
       "<g id=\"node6\" class=\"node\"><title>5</title>\r\n",
       "<polygon fill=\"#e68642\" stroke=\"black\" points=\"738,-157 550,-157 550,-89 738,-89 738,-157\"/>\r\n",
       "<text text-anchor=\"middle\" x=\"644\" y=\"-141.8\" font-family=\"Times New Roman,serif\" font-size=\"14.00\">thalach &lt;= 109.0</text>\r\n",
       "<text text-anchor=\"middle\" x=\"644\" y=\"-126.8\" font-family=\"Times New Roman,serif\" font-size=\"14.00\">samples = 24</text>\r\n",
       "<text text-anchor=\"middle\" x=\"644\" y=\"-111.8\" font-family=\"Times New Roman,serif\" font-size=\"14.00\">value = [23, 1]</text>\r\n",
       "<text text-anchor=\"middle\" x=\"644\" y=\"-96.8\" font-family=\"Times New Roman,serif\" font-size=\"14.00\">class = reduccion del diametro</text>\r\n",
       "</g>\r\n",
       "<!-- 1&#45;&gt;5 -->\r\n",
       "<g id=\"edge5\" class=\"edge\"><title>1&#45;&gt;5</title>\r\n",
       "<path fill=\"none\" stroke=\"black\" d=\"M644,-192.884C644,-184.778 644,-175.982 644,-167.472\"/>\r\n",
       "<polygon fill=\"black\" stroke=\"black\" points=\"647.5,-167.299 644,-157.299 640.5,-167.299 647.5,-167.299\"/>\r\n",
       "</g>\r\n",
       "<!-- 3 -->\r\n",
       "<g id=\"node4\" class=\"node\"><title>3</title>\r\n",
       "<polygon fill=\"#61b1ea\" stroke=\"black\" points=\"216,-53 0,-53 0,-0 216,-0 216,-53\"/>\r\n",
       "<text text-anchor=\"middle\" x=\"108\" y=\"-37.8\" font-family=\"Times New Roman,serif\" font-size=\"14.00\">samples = 12</text>\r\n",
       "<text text-anchor=\"middle\" x=\"108\" y=\"-22.8\" font-family=\"Times New Roman,serif\" font-size=\"14.00\">value = [2, 10]</text>\r\n",
       "<text text-anchor=\"middle\" x=\"108\" y=\"-7.8\" font-family=\"Times New Roman,serif\" font-size=\"14.00\">class = estrechamiento del diametro</text>\r\n",
       "</g>\r\n",
       "<!-- 2&#45;&gt;3 -->\r\n",
       "<g id=\"edge3\" class=\"edge\"><title>2&#45;&gt;3</title>\r\n",
       "<path fill=\"none\" stroke=\"black\" d=\"M251.055,-88.9485C226.88,-78.5643 200.357,-67.1714 176.785,-57.0464\"/>\r\n",
       "<polygon fill=\"black\" stroke=\"black\" points=\"178.136,-53.8176 167.567,-53.0867 175.374,-60.2494 178.136,-53.8176\"/>\r\n",
       "</g>\r\n",
       "<!-- 4 -->\r\n",
       "<g id=\"node5\" class=\"node\"><title>4</title>\r\n",
       "<polygon fill=\"#e58139\" stroke=\"black\" points=\"422,-53 234,-53 234,-0 422,-0 422,-53\"/>\r\n",
       "<text text-anchor=\"middle\" x=\"328\" y=\"-37.8\" font-family=\"Times New Roman,serif\" font-size=\"14.00\">samples = 6</text>\r\n",
       "<text text-anchor=\"middle\" x=\"328\" y=\"-22.8\" font-family=\"Times New Roman,serif\" font-size=\"14.00\">value = [6, 0]</text>\r\n",
       "<text text-anchor=\"middle\" x=\"328\" y=\"-7.8\" font-family=\"Times New Roman,serif\" font-size=\"14.00\">class = reduccion del diametro</text>\r\n",
       "</g>\r\n",
       "<!-- 2&#45;&gt;4 -->\r\n",
       "<g id=\"edge4\" class=\"edge\"><title>2&#45;&gt;4</title>\r\n",
       "<path fill=\"none\" stroke=\"black\" d=\"M328,-88.9485C328,-80.7153 328,-71.848 328,-63.4814\"/>\r\n",
       "<polygon fill=\"black\" stroke=\"black\" points=\"331.5,-63.2367 328,-53.2367 324.5,-63.2367 331.5,-63.2367\"/>\r\n",
       "</g>\r\n",
       "<!-- 6 -->\r\n",
       "<g id=\"node7\" class=\"node\"><title>6</title>\r\n",
       "<polygon fill=\"#ffffff\" stroke=\"black\" points=\"628,-53 440,-53 440,-0 628,-0 628,-53\"/>\r\n",
       "<text text-anchor=\"middle\" x=\"534\" y=\"-37.8\" font-family=\"Times New Roman,serif\" font-size=\"14.00\">samples = 2</text>\r\n",
       "<text text-anchor=\"middle\" x=\"534\" y=\"-22.8\" font-family=\"Times New Roman,serif\" font-size=\"14.00\">value = [1, 1]</text>\r\n",
       "<text text-anchor=\"middle\" x=\"534\" y=\"-7.8\" font-family=\"Times New Roman,serif\" font-size=\"14.00\">class = reduccion del diametro</text>\r\n",
       "</g>\r\n",
       "<!-- 5&#45;&gt;6 -->\r\n",
       "<g id=\"edge6\" class=\"edge\"><title>5&#45;&gt;6</title>\r\n",
       "<path fill=\"none\" stroke=\"black\" d=\"M605.527,-88.9485C594.559,-79.526 582.625,-69.2731 571.703,-59.8906\"/>\r\n",
       "<polygon fill=\"black\" stroke=\"black\" points=\"573.824,-57.0983 563.958,-53.2367 569.263,-62.408 573.824,-57.0983\"/>\r\n",
       "</g>\r\n",
       "<!-- 7 -->\r\n",
       "<g id=\"node8\" class=\"node\"><title>7</title>\r\n",
       "<polygon fill=\"#e58139\" stroke=\"black\" points=\"834,-53 646,-53 646,-0 834,-0 834,-53\"/>\r\n",
       "<text text-anchor=\"middle\" x=\"740\" y=\"-37.8\" font-family=\"Times New Roman,serif\" font-size=\"14.00\">samples = 22</text>\r\n",
       "<text text-anchor=\"middle\" x=\"740\" y=\"-22.8\" font-family=\"Times New Roman,serif\" font-size=\"14.00\">value = [22, 0]</text>\r\n",
       "<text text-anchor=\"middle\" x=\"740\" y=\"-7.8\" font-family=\"Times New Roman,serif\" font-size=\"14.00\">class = reduccion del diametro</text>\r\n",
       "</g>\r\n",
       "<!-- 5&#45;&gt;7 -->\r\n",
       "<g id=\"edge7\" class=\"edge\"><title>5&#45;&gt;7</title>\r\n",
       "<path fill=\"none\" stroke=\"black\" d=\"M677.576,-88.9485C686.962,-79.709 697.16,-69.671 706.539,-60.4381\"/>\r\n",
       "<polygon fill=\"black\" stroke=\"black\" points=\"709.184,-62.7462 713.855,-53.2367 704.273,-57.7576 709.184,-62.7462\"/>\r\n",
       "</g>\r\n",
       "<!-- 9 -->\r\n",
       "<g id=\"node10\" class=\"node\"><title>9</title>\r\n",
       "<polygon fill=\"#56abe9\" stroke=\"black\" points=\"1068,-157 852,-157 852,-89 1068,-89 1068,-157\"/>\r\n",
       "<text text-anchor=\"middle\" x=\"960\" y=\"-141.8\" font-family=\"Times New Roman,serif\" font-size=\"14.00\">age &lt;= 56.5</text>\r\n",
       "<text text-anchor=\"middle\" x=\"960\" y=\"-126.8\" font-family=\"Times New Roman,serif\" font-size=\"14.00\">samples = 47</text>\r\n",
       "<text text-anchor=\"middle\" x=\"960\" y=\"-111.8\" font-family=\"Times New Roman,serif\" font-size=\"14.00\">value = [6, 41]</text>\r\n",
       "<text text-anchor=\"middle\" x=\"960\" y=\"-96.8\" font-family=\"Times New Roman,serif\" font-size=\"14.00\">class = estrechamiento del diametro</text>\r\n",
       "</g>\r\n",
       "<!-- 8&#45;&gt;9 -->\r\n",
       "<g id=\"edge9\" class=\"edge\"><title>8&#45;&gt;9</title>\r\n",
       "<path fill=\"none\" stroke=\"black\" d=\"M960,-192.884C960,-184.778 960,-175.982 960,-167.472\"/>\r\n",
       "<polygon fill=\"black\" stroke=\"black\" points=\"963.5,-167.299 960,-157.299 956.5,-167.299 963.5,-167.299\"/>\r\n",
       "</g>\r\n",
       "<!-- 12 -->\r\n",
       "<g id=\"node13\" class=\"node\"><title>12</title>\r\n",
       "<polygon fill=\"#e58139\" stroke=\"black\" points=\"1274,-149.5 1086,-149.5 1086,-96.5 1274,-96.5 1274,-149.5\"/>\r\n",
       "<text text-anchor=\"middle\" x=\"1180\" y=\"-134.3\" font-family=\"Times New Roman,serif\" font-size=\"14.00\">samples = 2</text>\r\n",
       "<text text-anchor=\"middle\" x=\"1180\" y=\"-119.3\" font-family=\"Times New Roman,serif\" font-size=\"14.00\">value = [2, 0]</text>\r\n",
       "<text text-anchor=\"middle\" x=\"1180\" y=\"-104.3\" font-family=\"Times New Roman,serif\" font-size=\"14.00\">class = reduccion del diametro</text>\r\n",
       "</g>\r\n",
       "<!-- 8&#45;&gt;12 -->\r\n",
       "<g id=\"edge12\" class=\"edge\"><title>8&#45;&gt;12</title>\r\n",
       "<path fill=\"none\" stroke=\"black\" d=\"M1031.43,-192.884C1058.59,-180.291 1089.34,-166.033 1115.79,-153.769\"/>\r\n",
       "<polygon fill=\"black\" stroke=\"black\" points=\"1117.36,-156.902 1124.96,-149.52 1114.41,-150.551 1117.36,-156.902\"/>\r\n",
       "</g>\r\n",
       "<!-- 10 -->\r\n",
       "<g id=\"node11\" class=\"node\"><title>10</title>\r\n",
       "<polygon fill=\"#399de5\" stroke=\"black\" points=\"1068,-53 852,-53 852,-0 1068,-0 1068,-53\"/>\r\n",
       "<text text-anchor=\"middle\" x=\"960\" y=\"-37.8\" font-family=\"Times New Roman,serif\" font-size=\"14.00\">samples = 24</text>\r\n",
       "<text text-anchor=\"middle\" x=\"960\" y=\"-22.8\" font-family=\"Times New Roman,serif\" font-size=\"14.00\">value = [0, 24]</text>\r\n",
       "<text text-anchor=\"middle\" x=\"960\" y=\"-7.8\" font-family=\"Times New Roman,serif\" font-size=\"14.00\">class = estrechamiento del diametro</text>\r\n",
       "</g>\r\n",
       "<!-- 9&#45;&gt;10 -->\r\n",
       "<g id=\"edge10\" class=\"edge\"><title>9&#45;&gt;10</title>\r\n",
       "<path fill=\"none\" stroke=\"black\" d=\"M960,-88.9485C960,-80.7153 960,-71.848 960,-63.4814\"/>\r\n",
       "<polygon fill=\"black\" stroke=\"black\" points=\"963.5,-63.2367 960,-53.2367 956.5,-63.2367 963.5,-63.2367\"/>\r\n",
       "</g>\r\n",
       "<!-- 11 -->\r\n",
       "<g id=\"node12\" class=\"node\"><title>11</title>\r\n",
       "<polygon fill=\"#7fc0ee\" stroke=\"black\" points=\"1302,-53 1086,-53 1086,-0 1302,-0 1302,-53\"/>\r\n",
       "<text text-anchor=\"middle\" x=\"1194\" y=\"-37.8\" font-family=\"Times New Roman,serif\" font-size=\"14.00\">samples = 23</text>\r\n",
       "<text text-anchor=\"middle\" x=\"1194\" y=\"-22.8\" font-family=\"Times New Roman,serif\" font-size=\"14.00\">value = [6, 17]</text>\r\n",
       "<text text-anchor=\"middle\" x=\"1194\" y=\"-7.8\" font-family=\"Times New Roman,serif\" font-size=\"14.00\">class = estrechamiento del diametro</text>\r\n",
       "</g>\r\n",
       "<!-- 9&#45;&gt;11 -->\r\n",
       "<g id=\"edge11\" class=\"edge\"><title>9&#45;&gt;11</title>\r\n",
       "<path fill=\"none\" stroke=\"black\" d=\"M1041.84,-88.9485C1067.67,-78.5183 1096.02,-67.0705 1121.17,-56.9121\"/>\r\n",
       "<polygon fill=\"black\" stroke=\"black\" points=\"1122.68,-60.0767 1130.64,-53.0867 1120.06,-53.586 1122.68,-60.0767\"/>\r\n",
       "</g>\r\n",
       "</g>\r\n",
       "</svg>\r\n"
      ],
      "text/plain": [
       "<graphviz.files.Source at 0x207388b5388>"
      ]
     },
     "execution_count": 17,
     "metadata": {},
     "output_type": "execute_result"
    }
   ],
   "source": [
    "import graphviz\n",
    "# Dibujando el modelo\n",
    "export_graphviz(tree, out_file=\"tree.dot\", class_names=[\"reduccion del diametro\", \"estrechamiento del diametro\"], \n",
    "                feature_names=caracterictica, impurity=False, filled=True)\n",
    "\n",
    "with open(\"tree.dot\") as f:\n",
    "    dot_graph = f.read()\n",
    "graphviz.Source(dot_graph)"
   ]
  },
  {
   "cell_type": "code",
   "execution_count": 18,
   "metadata": {},
   "outputs": [],
   "source": [
    "from sklearn.ensemble import AdaBoostClassifier\n",
    "# Utilizando AdaBoost para aumentar la precisión\n",
    "ada = AdaBoostClassifier(base_estimator=tree, n_estimators=500, \n",
    "                         learning_rate=1.5, random_state=1)\n",
    "# Ajustando los datos\n",
    "ada = ada.fit(X_train, y_train)"
   ]
  },
  {
   "cell_type": "code",
   "execution_count": 19,
   "metadata": {},
   "outputs": [
    {
     "data": {
      "text/plain": [
       "1.0"
      ]
     },
     "execution_count": 19,
     "metadata": {},
     "output_type": "execute_result"
    }
   ],
   "source": [
    "ada.score(X_test,y_test)"
   ]
  },
  {
   "cell_type": "code",
   "execution_count": 20,
   "metadata": {},
   "outputs": [
    {
     "data": {
      "text/plain": [
       "1.0"
      ]
     },
     "execution_count": 20,
     "metadata": {},
     "output_type": "execute_result"
    }
   ],
   "source": [
    "ada.score(X_train,y_train)"
   ]
  },
  {
   "cell_type": "code",
   "execution_count": 21,
   "metadata": {},
   "outputs": [
    {
     "data": {
      "text/plain": [
       "array([0.16198755, 0.01428584, 0.09245185, 0.12248633, 0.15198634,\n",
       "       0.00876889, 0.02999605, 0.13531908, 0.02648201, 0.10624632,\n",
       "       0.01921362, 0.06413694, 0.06663919])"
      ]
     },
     "execution_count": 21,
     "metadata": {},
     "output_type": "execute_result"
    }
   ],
   "source": [
    "ada.feature_importances_"
   ]
  },
  {
   "cell_type": "code",
   "execution_count": 22,
   "metadata": {},
   "outputs": [
    {
     "data": {
      "text/html": [
       "<div>\n",
       "<style scoped>\n",
       "    .dataframe tbody tr th:only-of-type {\n",
       "        vertical-align: middle;\n",
       "    }\n",
       "\n",
       "    .dataframe tbody tr th {\n",
       "        vertical-align: top;\n",
       "    }\n",
       "\n",
       "    .dataframe thead th {\n",
       "        text-align: right;\n",
       "    }\n",
       "</style>\n",
       "<table border=\"1\" class=\"dataframe\">\n",
       "  <thead>\n",
       "    <tr style=\"text-align: right;\">\n",
       "      <th></th>\n",
       "      <th>Caracteristica</th>\n",
       "      <th>Importancia</th>\n",
       "    </tr>\n",
       "  </thead>\n",
       "  <tbody>\n",
       "    <tr>\n",
       "      <th>0</th>\n",
       "      <td>age</td>\n",
       "      <td>0.161988</td>\n",
       "    </tr>\n",
       "    <tr>\n",
       "      <th>4</th>\n",
       "      <td>chol</td>\n",
       "      <td>0.151986</td>\n",
       "    </tr>\n",
       "    <tr>\n",
       "      <th>7</th>\n",
       "      <td>thalach</td>\n",
       "      <td>0.135319</td>\n",
       "    </tr>\n",
       "    <tr>\n",
       "      <th>3</th>\n",
       "      <td>trestbps</td>\n",
       "      <td>0.122486</td>\n",
       "    </tr>\n",
       "    <tr>\n",
       "      <th>9</th>\n",
       "      <td>oldpeak</td>\n",
       "      <td>0.106246</td>\n",
       "    </tr>\n",
       "  </tbody>\n",
       "</table>\n",
       "</div>"
      ],
      "text/plain": [
       "  Caracteristica  Importancia\n",
       "0            age     0.161988\n",
       "4           chol     0.151986\n",
       "7        thalach     0.135319\n",
       "3       trestbps     0.122486\n",
       "9        oldpeak     0.106246"
      ]
     },
     "execution_count": 22,
     "metadata": {},
     "output_type": "execute_result"
    }
   ],
   "source": [
    "imp = pd.DataFrame(zip(caracterictica, ada.feature_importances_), columns = ['Caracteristica', 'Importancia'])\n",
    "imp = imp.sort_values(by = 'Importancia', ascending = False)\n",
    "imp.head()"
   ]
  }
 ],
 "metadata": {
  "kernelspec": {
   "display_name": "Python 3",
   "language": "python",
   "name": "python3"
  },
  "language_info": {
   "codemirror_mode": {
    "name": "ipython",
    "version": 3
   },
   "file_extension": ".py",
   "mimetype": "text/x-python",
   "name": "python",
   "nbconvert_exporter": "python",
   "pygments_lexer": "ipython3",
   "version": "3.7.6"
  }
 },
 "nbformat": 4,
 "nbformat_minor": 4
}
